{
 "cells": [
  {
   "cell_type": "markdown",
   "id": "430d479e",
   "metadata": {},
   "source": [
    "# <div style = 'background-color:skyblue'> <center> 1st_Mini_Project_Regressor </div>"
   ]
  },
  {
   "cell_type": "markdown",
   "id": "ab8fa214",
   "metadata": {},
   "source": [
    "# Problem Statement"
   ]
  },
  {
   "cell_type": "markdown",
   "id": "87c79014",
   "metadata": {},
   "source": [
    "__The success of any retail store depends upon its sales. More the sales made, more is the revenue.To enable this, store owners rely heavily on past data to predict future sales. This will help them in strategizing their business models and come up with innovative techniques and ideas to attract customers and set realistic goals.__\n",
    "\n",
    "__So for this sales stores need a model for sales prediction which will help them in improving the sales__"
   ]
  },
  {
   "cell_type": "markdown",
   "id": "3e87a839",
   "metadata": {},
   "source": [
    "## Import The Important libraries --"
   ]
  },
  {
   "cell_type": "code",
   "execution_count": 1,
   "id": "b0b997a3",
   "metadata": {},
   "outputs": [],
   "source": [
    "import numpy as np                                     # Used for Mathematical calculations\n",
    "import pandas as pd                                    # Used for dealing with DataFrame \n",
    "import matplotlib.pyplot as plt                        # Used for data Visualization\n",
    "import seaborn as sb                                   # Used for Advanced Data Visualization\n",
    "from tabulate import tabulate                          # Used for create tables \n",
    "import warnings                                        # Used for ignore Warnings \n",
    "warnings.filterwarnings(\"ignore\")\n",
    "                                                   \n",
    "from sklearn import preprocessing                      # Used for preprocessing        \n",
    "\n",
    "from sklearn.preprocessing import MinMaxScaler         # Used for Scaling the data \n",
    "from sklearn.model_selection import train_test_split   # Used for spliting the dataset into Training and testing\n",
    "from sklearn.model_selection import cross_val_score    # Used for Cross validation\n",
    "\n",
    "from sklearn.linear_model import LinearRegression      # used for Linear regression model Building\n",
    "from sklearn.tree import DecisionTreeRegressor         # used for Decisiion Tree Regressor model Building\n",
    "from sklearn.ensemble import RandomForestRegressor     # Used for Random Forest Regressor model Building\n",
    "\n",
    "from sklearn.metrics import mean_squared_error         # Used for Calculate Mean Squared Error\n",
    "from sklearn.metrics import mean_absolute_error        # Used for Calculate Mean Absolute Error\n",
    "\n",
    "\n"
   ]
  },
  {
   "cell_type": "markdown",
   "id": "0a5d01e7",
   "metadata": {},
   "source": [
    "### <font color=Green> ---------------------------------------------------------------------------------------------------------------------------------------------------------------"
   ]
  },
  {
   "cell_type": "markdown",
   "id": "82dbefc1",
   "metadata": {},
   "source": [
    "## Reading The dataset --"
   ]
  },
  {
   "cell_type": "code",
   "execution_count": 2,
   "id": "e1520712",
   "metadata": {},
   "outputs": [
    {
     "data": {
      "text/html": [
       "<div>\n",
       "<style scoped>\n",
       "    .dataframe tbody tr th:only-of-type {\n",
       "        vertical-align: middle;\n",
       "    }\n",
       "\n",
       "    .dataframe tbody tr th {\n",
       "        vertical-align: top;\n",
       "    }\n",
       "\n",
       "    .dataframe thead th {\n",
       "        text-align: right;\n",
       "    }\n",
       "</style>\n",
       "<table border=\"1\" class=\"dataframe\">\n",
       "  <thead>\n",
       "    <tr style=\"text-align: right;\">\n",
       "      <th></th>\n",
       "      <th>Item_Identifier</th>\n",
       "      <th>Item_Weight</th>\n",
       "      <th>Item_Fat_Content</th>\n",
       "      <th>Item_Visibility</th>\n",
       "      <th>Item_Type</th>\n",
       "      <th>Item_MRP</th>\n",
       "      <th>Outlet_Identifier</th>\n",
       "      <th>Outlet_Establishment_Year</th>\n",
       "      <th>Outlet_Size</th>\n",
       "      <th>Outlet_Location_Type</th>\n",
       "      <th>Outlet_Type</th>\n",
       "      <th>Item_Outlet_Sales</th>\n",
       "    </tr>\n",
       "  </thead>\n",
       "  <tbody>\n",
       "    <tr>\n",
       "      <th>0</th>\n",
       "      <td>FDA15</td>\n",
       "      <td>9.30</td>\n",
       "      <td>Low Fat</td>\n",
       "      <td>0.016047</td>\n",
       "      <td>Dairy</td>\n",
       "      <td>249.8092</td>\n",
       "      <td>OUT049</td>\n",
       "      <td>1999</td>\n",
       "      <td>Medium</td>\n",
       "      <td>Tier 1</td>\n",
       "      <td>Supermarket Type1</td>\n",
       "      <td>3735.1380</td>\n",
       "    </tr>\n",
       "    <tr>\n",
       "      <th>1</th>\n",
       "      <td>DRC01</td>\n",
       "      <td>5.92</td>\n",
       "      <td>Regular</td>\n",
       "      <td>0.019278</td>\n",
       "      <td>Soft Drinks</td>\n",
       "      <td>48.2692</td>\n",
       "      <td>OUT018</td>\n",
       "      <td>2009</td>\n",
       "      <td>Medium</td>\n",
       "      <td>Tier 3</td>\n",
       "      <td>Supermarket Type2</td>\n",
       "      <td>443.4228</td>\n",
       "    </tr>\n",
       "    <tr>\n",
       "      <th>2</th>\n",
       "      <td>FDN15</td>\n",
       "      <td>17.50</td>\n",
       "      <td>Low Fat</td>\n",
       "      <td>0.016760</td>\n",
       "      <td>Meat</td>\n",
       "      <td>141.6180</td>\n",
       "      <td>OUT049</td>\n",
       "      <td>1999</td>\n",
       "      <td>Medium</td>\n",
       "      <td>Tier 1</td>\n",
       "      <td>Supermarket Type1</td>\n",
       "      <td>2097.2700</td>\n",
       "    </tr>\n",
       "    <tr>\n",
       "      <th>3</th>\n",
       "      <td>FDX07</td>\n",
       "      <td>19.20</td>\n",
       "      <td>Regular</td>\n",
       "      <td>0.074402</td>\n",
       "      <td>Fruits and Vegetables</td>\n",
       "      <td>182.0950</td>\n",
       "      <td>OUT010</td>\n",
       "      <td>1998</td>\n",
       "      <td>Medium</td>\n",
       "      <td>Tier 3</td>\n",
       "      <td>Grocery Store</td>\n",
       "      <td>732.3800</td>\n",
       "    </tr>\n",
       "    <tr>\n",
       "      <th>4</th>\n",
       "      <td>NCD19</td>\n",
       "      <td>8.93</td>\n",
       "      <td>Low Fat</td>\n",
       "      <td>0.064299</td>\n",
       "      <td>Household</td>\n",
       "      <td>53.8614</td>\n",
       "      <td>OUT013</td>\n",
       "      <td>1987</td>\n",
       "      <td>High</td>\n",
       "      <td>Tier 3</td>\n",
       "      <td>Supermarket Type1</td>\n",
       "      <td>994.7052</td>\n",
       "    </tr>\n",
       "    <tr>\n",
       "      <th>...</th>\n",
       "      <td>...</td>\n",
       "      <td>...</td>\n",
       "      <td>...</td>\n",
       "      <td>...</td>\n",
       "      <td>...</td>\n",
       "      <td>...</td>\n",
       "      <td>...</td>\n",
       "      <td>...</td>\n",
       "      <td>...</td>\n",
       "      <td>...</td>\n",
       "      <td>...</td>\n",
       "      <td>...</td>\n",
       "    </tr>\n",
       "    <tr>\n",
       "      <th>14199</th>\n",
       "      <td>FDB58</td>\n",
       "      <td>10.50</td>\n",
       "      <td>Regular</td>\n",
       "      <td>0.013496</td>\n",
       "      <td>Snack Foods</td>\n",
       "      <td>141.3154</td>\n",
       "      <td>OUT046</td>\n",
       "      <td>1997</td>\n",
       "      <td>Small</td>\n",
       "      <td>Tier 1</td>\n",
       "      <td>Supermarket Type1</td>\n",
       "      <td>NaN</td>\n",
       "    </tr>\n",
       "    <tr>\n",
       "      <th>14200</th>\n",
       "      <td>FDD47</td>\n",
       "      <td>7.60</td>\n",
       "      <td>Regular</td>\n",
       "      <td>0.142991</td>\n",
       "      <td>Starchy Foods</td>\n",
       "      <td>169.1448</td>\n",
       "      <td>OUT018</td>\n",
       "      <td>2009</td>\n",
       "      <td>Medium</td>\n",
       "      <td>Tier 3</td>\n",
       "      <td>Supermarket Type2</td>\n",
       "      <td>NaN</td>\n",
       "    </tr>\n",
       "    <tr>\n",
       "      <th>14201</th>\n",
       "      <td>NCO17</td>\n",
       "      <td>10.00</td>\n",
       "      <td>Low Fat</td>\n",
       "      <td>0.073529</td>\n",
       "      <td>Health and Hygiene</td>\n",
       "      <td>118.7440</td>\n",
       "      <td>OUT045</td>\n",
       "      <td>2002</td>\n",
       "      <td>Small</td>\n",
       "      <td>Tier 2</td>\n",
       "      <td>Supermarket Type1</td>\n",
       "      <td>NaN</td>\n",
       "    </tr>\n",
       "    <tr>\n",
       "      <th>14202</th>\n",
       "      <td>FDJ26</td>\n",
       "      <td>15.30</td>\n",
       "      <td>Regular</td>\n",
       "      <td>0.064709</td>\n",
       "      <td>Canned</td>\n",
       "      <td>214.6218</td>\n",
       "      <td>OUT017</td>\n",
       "      <td>2007</td>\n",
       "      <td>Small</td>\n",
       "      <td>Tier 2</td>\n",
       "      <td>Supermarket Type1</td>\n",
       "      <td>NaN</td>\n",
       "    </tr>\n",
       "    <tr>\n",
       "      <th>14203</th>\n",
       "      <td>FDU37</td>\n",
       "      <td>9.50</td>\n",
       "      <td>Regular</td>\n",
       "      <td>0.104720</td>\n",
       "      <td>Canned</td>\n",
       "      <td>79.7960</td>\n",
       "      <td>OUT045</td>\n",
       "      <td>2002</td>\n",
       "      <td>Small</td>\n",
       "      <td>Tier 2</td>\n",
       "      <td>Supermarket Type1</td>\n",
       "      <td>NaN</td>\n",
       "    </tr>\n",
       "  </tbody>\n",
       "</table>\n",
       "<p>14204 rows × 12 columns</p>\n",
       "</div>"
      ],
      "text/plain": [
       "      Item_Identifier  Item_Weight Item_Fat_Content  Item_Visibility  \\\n",
       "0               FDA15         9.30          Low Fat         0.016047   \n",
       "1               DRC01         5.92          Regular         0.019278   \n",
       "2               FDN15        17.50          Low Fat         0.016760   \n",
       "3               FDX07        19.20          Regular         0.074402   \n",
       "4               NCD19         8.93          Low Fat         0.064299   \n",
       "...               ...          ...              ...              ...   \n",
       "14199           FDB58        10.50          Regular         0.013496   \n",
       "14200           FDD47         7.60          Regular         0.142991   \n",
       "14201           NCO17        10.00          Low Fat         0.073529   \n",
       "14202           FDJ26        15.30          Regular         0.064709   \n",
       "14203           FDU37         9.50          Regular         0.104720   \n",
       "\n",
       "                   Item_Type  Item_MRP Outlet_Identifier  \\\n",
       "0                      Dairy  249.8092            OUT049   \n",
       "1                Soft Drinks   48.2692            OUT018   \n",
       "2                       Meat  141.6180            OUT049   \n",
       "3      Fruits and Vegetables  182.0950            OUT010   \n",
       "4                  Household   53.8614            OUT013   \n",
       "...                      ...       ...               ...   \n",
       "14199            Snack Foods  141.3154            OUT046   \n",
       "14200          Starchy Foods  169.1448            OUT018   \n",
       "14201     Health and Hygiene  118.7440            OUT045   \n",
       "14202                 Canned  214.6218            OUT017   \n",
       "14203                 Canned   79.7960            OUT045   \n",
       "\n",
       "       Outlet_Establishment_Year Outlet_Size Outlet_Location_Type  \\\n",
       "0                           1999      Medium               Tier 1   \n",
       "1                           2009      Medium               Tier 3   \n",
       "2                           1999      Medium               Tier 1   \n",
       "3                           1998      Medium               Tier 3   \n",
       "4                           1987        High               Tier 3   \n",
       "...                          ...         ...                  ...   \n",
       "14199                       1997       Small               Tier 1   \n",
       "14200                       2009      Medium               Tier 3   \n",
       "14201                       2002       Small               Tier 2   \n",
       "14202                       2007       Small               Tier 2   \n",
       "14203                       2002       Small               Tier 2   \n",
       "\n",
       "             Outlet_Type  Item_Outlet_Sales  \n",
       "0      Supermarket Type1          3735.1380  \n",
       "1      Supermarket Type2           443.4228  \n",
       "2      Supermarket Type1          2097.2700  \n",
       "3          Grocery Store           732.3800  \n",
       "4      Supermarket Type1           994.7052  \n",
       "...                  ...                ...  \n",
       "14199  Supermarket Type1                NaN  \n",
       "14200  Supermarket Type2                NaN  \n",
       "14201  Supermarket Type1                NaN  \n",
       "14202  Supermarket Type1                NaN  \n",
       "14203  Supermarket Type1                NaN  \n",
       "\n",
       "[14204 rows x 12 columns]"
      ]
     },
     "execution_count": 2,
     "metadata": {},
     "output_type": "execute_result"
    }
   ],
   "source": [
    "df=pd.read_csv(\"DS3_C6_S1_Regression_StoreSales_Data_Project.csv\")\n",
    "df"
   ]
  },
  {
   "cell_type": "markdown",
   "id": "352731c4",
   "metadata": {},
   "source": [
    "## Preprocessing --"
   ]
  },
  {
   "cell_type": "code",
   "execution_count": 3,
   "id": "373edd51",
   "metadata": {},
   "outputs": [
    {
     "data": {
      "text/plain": [
       "(14204, 12)"
      ]
     },
     "execution_count": 3,
     "metadata": {},
     "output_type": "execute_result"
    }
   ],
   "source": [
    "df.shape                                               # Check the Structure of the data "
   ]
  },
  {
   "cell_type": "code",
   "execution_count": 4,
   "id": "372a3506",
   "metadata": {},
   "outputs": [
    {
     "data": {
      "text/plain": [
       "Index(['Item_Identifier', 'Item_Weight', 'Item_Fat_Content', 'Item_Visibility',\n",
       "       'Item_Type', 'Item_MRP', 'Outlet_Identifier',\n",
       "       'Outlet_Establishment_Year', 'Outlet_Size', 'Outlet_Location_Type',\n",
       "       'Outlet_Type', 'Item_Outlet_Sales'],\n",
       "      dtype='object')"
      ]
     },
     "execution_count": 4,
     "metadata": {},
     "output_type": "execute_result"
    }
   ],
   "source": [
    "df.columns                                             # Check the Column names in the dataframe "
   ]
  },
  {
   "cell_type": "code",
   "execution_count": 5,
   "id": "b0040db7",
   "metadata": {},
   "outputs": [
    {
     "data": {
      "text/plain": [
       "Item_Identifier               object\n",
       "Item_Weight                  float64\n",
       "Item_Fat_Content              object\n",
       "Item_Visibility              float64\n",
       "Item_Type                     object\n",
       "Item_MRP                     float64\n",
       "Outlet_Identifier             object\n",
       "Outlet_Establishment_Year      int64\n",
       "Outlet_Size                   object\n",
       "Outlet_Location_Type          object\n",
       "Outlet_Type                   object\n",
       "Item_Outlet_Sales            float64\n",
       "dtype: object"
      ]
     },
     "execution_count": 5,
     "metadata": {},
     "output_type": "execute_result"
    }
   ],
   "source": [
    "df.dtypes                                              # Check the data types features"
   ]
  },
  {
   "cell_type": "code",
   "execution_count": 6,
   "id": "16b9bc1e",
   "metadata": {},
   "outputs": [],
   "source": [
    "cat=df.select_dtypes(include=\"object\")                 #  Tacking only categorical columns \n",
    "num=df.select_dtypes(exclude=\"object\")                 # tacking only numerical columns "
   ]
  },
  {
   "cell_type": "code",
   "execution_count": 7,
   "id": "05e328bf",
   "metadata": {},
   "outputs": [],
   "source": [
    "a=list(cat.columns)                                    # Creating List of the categorical columns\n",
    "b=list(num.columns)                                    # Creating list of the numerical columns "
   ]
  },
  {
   "cell_type": "markdown",
   "id": "7fd5b126",
   "metadata": {},
   "source": [
    "#### Tabular format of Categorical and numerical Features"
   ]
  },
  {
   "cell_type": "code",
   "execution_count": 8,
   "id": "27cb217b",
   "metadata": {},
   "outputs": [
    {
     "name": "stdout",
     "output_type": "stream",
     "text": [
      "Categorical           Numerical\n",
      "--------------------  -------------------------\n",
      "Item_Identifier       Item_Weight\n",
      "Item_Fat_Content      Item_Visibility\n",
      "Item_Type             Item_MRP\n",
      "Outlet_Identifier     Outlet_Establishment_Year\n",
      "Outlet_Size           Item_Outlet_Sales\n",
      "Outlet_Location_Type\n",
      "Outlet_Type\n"
     ]
    }
   ],
   "source": [
    "print(tabulate({\"categorical\":a,\"numerical\":b},headers=[\"Categorical\",\"Numerical\"]))"
   ]
  },
  {
   "cell_type": "code",
   "execution_count": 9,
   "id": "f4982c32",
   "metadata": {},
   "outputs": [
    {
     "data": {
      "text/html": [
       "<div>\n",
       "<style scoped>\n",
       "    .dataframe tbody tr th:only-of-type {\n",
       "        vertical-align: middle;\n",
       "    }\n",
       "\n",
       "    .dataframe tbody tr th {\n",
       "        vertical-align: top;\n",
       "    }\n",
       "\n",
       "    .dataframe thead th {\n",
       "        text-align: right;\n",
       "    }\n",
       "</style>\n",
       "<table border=\"1\" class=\"dataframe\">\n",
       "  <thead>\n",
       "    <tr style=\"text-align: right;\">\n",
       "      <th></th>\n",
       "      <th>Item_Weight</th>\n",
       "      <th>Item_Visibility</th>\n",
       "      <th>Item_MRP</th>\n",
       "      <th>Outlet_Establishment_Year</th>\n",
       "      <th>Item_Outlet_Sales</th>\n",
       "    </tr>\n",
       "  </thead>\n",
       "  <tbody>\n",
       "    <tr>\n",
       "      <th>count</th>\n",
       "      <td>14204.000000</td>\n",
       "      <td>14204.000000</td>\n",
       "      <td>14204.000000</td>\n",
       "      <td>14204.000000</td>\n",
       "      <td>8523.000000</td>\n",
       "    </tr>\n",
       "    <tr>\n",
       "      <th>mean</th>\n",
       "      <td>12.793380</td>\n",
       "      <td>0.070301</td>\n",
       "      <td>141.004977</td>\n",
       "      <td>1997.830681</td>\n",
       "      <td>2181.288914</td>\n",
       "    </tr>\n",
       "    <tr>\n",
       "      <th>std</th>\n",
       "      <td>4.651716</td>\n",
       "      <td>0.048621</td>\n",
       "      <td>62.086938</td>\n",
       "      <td>8.371664</td>\n",
       "      <td>1706.499616</td>\n",
       "    </tr>\n",
       "    <tr>\n",
       "      <th>min</th>\n",
       "      <td>4.555000</td>\n",
       "      <td>0.003575</td>\n",
       "      <td>31.290000</td>\n",
       "      <td>1985.000000</td>\n",
       "      <td>33.290000</td>\n",
       "    </tr>\n",
       "    <tr>\n",
       "      <th>25%</th>\n",
       "      <td>8.710000</td>\n",
       "      <td>0.033143</td>\n",
       "      <td>94.012000</td>\n",
       "      <td>1987.000000</td>\n",
       "      <td>834.247400</td>\n",
       "    </tr>\n",
       "    <tr>\n",
       "      <th>50%</th>\n",
       "      <td>12.600000</td>\n",
       "      <td>0.062347</td>\n",
       "      <td>142.247000</td>\n",
       "      <td>1999.000000</td>\n",
       "      <td>1794.331000</td>\n",
       "    </tr>\n",
       "    <tr>\n",
       "      <th>75%</th>\n",
       "      <td>16.750000</td>\n",
       "      <td>0.094037</td>\n",
       "      <td>185.855600</td>\n",
       "      <td>2004.000000</td>\n",
       "      <td>3101.296400</td>\n",
       "    </tr>\n",
       "    <tr>\n",
       "      <th>max</th>\n",
       "      <td>21.350000</td>\n",
       "      <td>0.328391</td>\n",
       "      <td>266.888400</td>\n",
       "      <td>2009.000000</td>\n",
       "      <td>13086.964800</td>\n",
       "    </tr>\n",
       "  </tbody>\n",
       "</table>\n",
       "</div>"
      ],
      "text/plain": [
       "        Item_Weight  Item_Visibility      Item_MRP  Outlet_Establishment_Year  \\\n",
       "count  14204.000000     14204.000000  14204.000000               14204.000000   \n",
       "mean      12.793380         0.070301    141.004977                1997.830681   \n",
       "std        4.651716         0.048621     62.086938                   8.371664   \n",
       "min        4.555000         0.003575     31.290000                1985.000000   \n",
       "25%        8.710000         0.033143     94.012000                1987.000000   \n",
       "50%       12.600000         0.062347    142.247000                1999.000000   \n",
       "75%       16.750000         0.094037    185.855600                2004.000000   \n",
       "max       21.350000         0.328391    266.888400                2009.000000   \n",
       "\n",
       "       Item_Outlet_Sales  \n",
       "count        8523.000000  \n",
       "mean         2181.288914  \n",
       "std          1706.499616  \n",
       "min            33.290000  \n",
       "25%           834.247400  \n",
       "50%          1794.331000  \n",
       "75%          3101.296400  \n",
       "max         13086.964800  "
      ]
     },
     "execution_count": 9,
     "metadata": {},
     "output_type": "execute_result"
    }
   ],
   "source": [
    "df.describe()"
   ]
  },
  {
   "cell_type": "code",
   "execution_count": 10,
   "id": "db2e376b",
   "metadata": {},
   "outputs": [
    {
     "name": "stdout",
     "output_type": "stream",
     "text": [
      "Item_Identifier\n",
      "FDU15    10\n",
      "FDS25    10\n",
      "FDA38    10\n",
      "FDW03    10\n",
      "FDJ10    10\n",
      "         ..\n",
      "FDR51     7\n",
      "FDM52     7\n",
      "DRN11     7\n",
      "FDH58     7\n",
      "NCW54     7\n",
      "Name: Item_Identifier, Length: 1559, dtype: int64\n",
      "Item_Weight\n",
      "17.600    163\n",
      "12.150    154\n",
      "10.500    147\n",
      "15.100    137\n",
      "13.650    136\n",
      "         ... \n",
      "7.640       8\n",
      "5.210       8\n",
      "9.035       7\n",
      "4.615       7\n",
      "7.850       7\n",
      "Name: Item_Weight, Length: 415, dtype: int64\n",
      "Item_Fat_Content\n",
      "Low Fat    9185\n",
      "Regular    5019\n",
      "Name: Item_Fat_Content, dtype: int64\n",
      "Item_Visibility\n",
      "0.064709    269\n",
      "0.074402    252\n",
      "0.082291    148\n",
      "0.063595    112\n",
      "0.064299     98\n",
      "           ... \n",
      "0.162572      1\n",
      "0.014826      1\n",
      "0.058034      1\n",
      "0.043786      1\n",
      "0.104720      1\n",
      "Name: Item_Visibility, Length: 13010, dtype: int64\n",
      "Item_Type\n",
      "Fruits and Vegetables    2013\n",
      "Snack Foods              1989\n",
      "Household                1548\n",
      "Frozen Foods             1426\n",
      "Dairy                    1136\n",
      "Baking Goods             1086\n",
      "Canned                   1084\n",
      "Health and Hygiene        858\n",
      "Meat                      736\n",
      "Soft Drinks               726\n",
      "Breads                    416\n",
      "Hard Drinks               362\n",
      "Others                    280\n",
      "Starchy Foods             269\n",
      "Breakfast                 186\n",
      "Seafood                    89\n",
      "Name: Item_Type, dtype: int64\n",
      "Item_MRP\n",
      "172.0422    8\n",
      "188.1872    7\n",
      "127.1020    7\n",
      "113.2834    7\n",
      "196.5768    7\n",
      "           ..\n",
      "113.7834    1\n",
      "91.4146     1\n",
      "84.2250     1\n",
      "209.0638    1\n",
      "188.0530    1\n",
      "Name: Item_MRP, Length: 8052, dtype: int64\n",
      "Outlet_Identifier\n",
      "OUT027    1559\n",
      "OUT013    1553\n",
      "OUT049    1550\n",
      "OUT046    1550\n",
      "OUT035    1550\n",
      "OUT045    1548\n",
      "OUT018    1546\n",
      "OUT017    1543\n",
      "OUT010     925\n",
      "OUT019     880\n",
      "Name: Outlet_Identifier, dtype: int64\n",
      "Outlet_Establishment_Year\n",
      "1985    2439\n",
      "1987    1553\n",
      "1999    1550\n",
      "1997    1550\n",
      "2004    1550\n",
      "2002    1548\n",
      "2009    1546\n",
      "2007    1543\n",
      "1998     925\n",
      "Name: Outlet_Establishment_Year, dtype: int64\n",
      "Outlet_Size\n",
      "Small     7071\n",
      "Medium    5580\n",
      "High      1553\n",
      "Name: Outlet_Size, dtype: int64\n",
      "Outlet_Location_Type\n",
      "Tier 3    5583\n",
      "Tier 2    4641\n",
      "Tier 1    3980\n",
      "Name: Outlet_Location_Type, dtype: int64\n",
      "Outlet_Type\n",
      "Supermarket Type1    9294\n",
      "Grocery Store        1805\n",
      "Supermarket Type3    1559\n",
      "Supermarket Type2    1546\n",
      "Name: Outlet_Type, dtype: int64\n",
      "Item_Outlet_Sales\n",
      "958.7520     17\n",
      "1342.2528    16\n",
      "703.0848     15\n",
      "1845.5976    15\n",
      "1278.3360    14\n",
      "             ..\n",
      "4124.6310     1\n",
      "6622.7126     1\n",
      "1614.5650     1\n",
      "5602.7070     1\n",
      "2778.3834     1\n",
      "Name: Item_Outlet_Sales, Length: 3493, dtype: int64\n"
     ]
    }
   ],
   "source": [
    "for i in df.columns:                                   # Finding all unique values in each Features and their Counts \n",
    "    print(i)\n",
    "    print(df[i].value_counts())"
   ]
  },
  {
   "cell_type": "code",
   "execution_count": 11,
   "id": "88d4018f",
   "metadata": {},
   "outputs": [
    {
     "data": {
      "text/plain": [
       "Item_Identifier                 0\n",
       "Item_Weight                     0\n",
       "Item_Fat_Content                0\n",
       "Item_Visibility                 0\n",
       "Item_Type                       0\n",
       "Item_MRP                        0\n",
       "Outlet_Identifier               0\n",
       "Outlet_Establishment_Year       0\n",
       "Outlet_Size                     0\n",
       "Outlet_Location_Type            0\n",
       "Outlet_Type                     0\n",
       "Item_Outlet_Sales            5681\n",
       "dtype: int64"
      ]
     },
     "execution_count": 11,
     "metadata": {},
     "output_type": "execute_result"
    }
   ],
   "source": [
    "df.isnull().sum()                                      # Check for null values"
   ]
  },
  {
   "cell_type": "markdown",
   "id": "11a407ad",
   "metadata": {},
   "source": [
    "### <font color=crimson > There is too many null values in this dataset that is more that 35% so here we can drop these values also but dropping is not a good apprach so here we do a group by with respect to Outlet Types and insert a mean value In sales according to Outlet types."
   ]
  },
  {
   "cell_type": "markdown",
   "id": "b68eb5d4",
   "metadata": {},
   "source": [
    "## Null values Treatment---"
   ]
  },
  {
   "cell_type": "code",
   "execution_count": 12,
   "id": "a18b9b8f",
   "metadata": {},
   "outputs": [
    {
     "data": {
      "text/plain": [
       "Outlet_Type\n",
       "Grocery Store         339.828500\n",
       "Supermarket Type1    2316.181148\n",
       "Supermarket Type2    1995.498739\n",
       "Supermarket Type3    3694.038558\n",
       "Name: Item_Outlet_Sales, dtype: float64"
      ]
     },
     "execution_count": 12,
     "metadata": {},
     "output_type": "execute_result"
    }
   ],
   "source": [
    "df.groupby(by=\"Outlet_Type\")[\"Item_Outlet_Sales\"].mean()       # grouping with aggrigation function mean"
   ]
  },
  {
   "cell_type": "code",
   "execution_count": 13,
   "id": "67fde8e0",
   "metadata": {},
   "outputs": [],
   "source": [
    "df[\"Item_Outlet_Sales\"]=df[\"Item_Outlet_Sales\"].replace([np.nan],\"Unknown\")    # replace NaN value with String Type Unknown"
   ]
  },
  {
   "cell_type": "code",
   "execution_count": 14,
   "id": "76ec362c",
   "metadata": {},
   "outputs": [],
   "source": [
    "df.loc[((df[\"Outlet_Type\"]==\"Grocery Store\") & (df.Item_Outlet_Sales == \"Unknown\")) ,\"Item_Outlet_Sales\"]=339.828500\n",
    "df.loc[((df[\"Outlet_Type\"]==\"Supermarket Type1\") & (df.Item_Outlet_Sales == \"Unknown\")) ,\"Item_Outlet_Sales\"]=2316.181148\n",
    "df.loc[((df[\"Outlet_Type\"]==\"Supermarket Type2\") & (df.Item_Outlet_Sales == \"Unknown\")) ,\"Item_Outlet_Sales\"]=1995.498739\n",
    "df.loc[((df[\"Outlet_Type\"]==\"Supermarket Type3\") & (df.Item_Outlet_Sales == \"Unknown\")) ,\"Item_Outlet_Sales\"]=3694.038558"
   ]
  },
  {
   "cell_type": "code",
   "execution_count": 15,
   "id": "f87386ea",
   "metadata": {},
   "outputs": [],
   "source": [
    "df[\"Item_Outlet_Sales\"] = df[\"Item_Outlet_Sales\"].astype(float) # Again Converting object datatype Featur into float "
   ]
  },
  {
   "cell_type": "code",
   "execution_count": 16,
   "id": "02976948",
   "metadata": {},
   "outputs": [
    {
     "data": {
      "text/plain": [
       "Item_Identifier              0\n",
       "Item_Weight                  0\n",
       "Item_Fat_Content             0\n",
       "Item_Visibility              0\n",
       "Item_Type                    0\n",
       "Item_MRP                     0\n",
       "Outlet_Identifier            0\n",
       "Outlet_Establishment_Year    0\n",
       "Outlet_Size                  0\n",
       "Outlet_Location_Type         0\n",
       "Outlet_Type                  0\n",
       "Item_Outlet_Sales            0\n",
       "dtype: int64"
      ]
     },
     "execution_count": 16,
     "metadata": {},
     "output_type": "execute_result"
    }
   ],
   "source": [
    "df.isnull().sum()                                      # Again Checking for Null values "
   ]
  },
  {
   "cell_type": "code",
   "execution_count": 17,
   "id": "5d35db11",
   "metadata": {},
   "outputs": [
    {
     "data": {
      "text/html": [
       "<div>\n",
       "<style scoped>\n",
       "    .dataframe tbody tr th:only-of-type {\n",
       "        vertical-align: middle;\n",
       "    }\n",
       "\n",
       "    .dataframe tbody tr th {\n",
       "        vertical-align: top;\n",
       "    }\n",
       "\n",
       "    .dataframe thead th {\n",
       "        text-align: right;\n",
       "    }\n",
       "</style>\n",
       "<table border=\"1\" class=\"dataframe\">\n",
       "  <thead>\n",
       "    <tr style=\"text-align: right;\">\n",
       "      <th></th>\n",
       "      <th>Item_Identifier</th>\n",
       "      <th>Item_Weight</th>\n",
       "      <th>Item_Fat_Content</th>\n",
       "      <th>Item_Visibility</th>\n",
       "      <th>Item_Type</th>\n",
       "      <th>Item_MRP</th>\n",
       "      <th>Outlet_Identifier</th>\n",
       "      <th>Outlet_Establishment_Year</th>\n",
       "      <th>Outlet_Size</th>\n",
       "      <th>Outlet_Location_Type</th>\n",
       "      <th>Outlet_Type</th>\n",
       "      <th>Item_Outlet_Sales</th>\n",
       "    </tr>\n",
       "  </thead>\n",
       "  <tbody>\n",
       "    <tr>\n",
       "      <th>0</th>\n",
       "      <td>FDA15</td>\n",
       "      <td>9.30</td>\n",
       "      <td>Low Fat</td>\n",
       "      <td>0.016047</td>\n",
       "      <td>Dairy</td>\n",
       "      <td>249.8092</td>\n",
       "      <td>OUT049</td>\n",
       "      <td>1999</td>\n",
       "      <td>Medium</td>\n",
       "      <td>Tier 1</td>\n",
       "      <td>Supermarket Type1</td>\n",
       "      <td>3735.138000</td>\n",
       "    </tr>\n",
       "    <tr>\n",
       "      <th>1</th>\n",
       "      <td>DRC01</td>\n",
       "      <td>5.92</td>\n",
       "      <td>Regular</td>\n",
       "      <td>0.019278</td>\n",
       "      <td>Soft Drinks</td>\n",
       "      <td>48.2692</td>\n",
       "      <td>OUT018</td>\n",
       "      <td>2009</td>\n",
       "      <td>Medium</td>\n",
       "      <td>Tier 3</td>\n",
       "      <td>Supermarket Type2</td>\n",
       "      <td>443.422800</td>\n",
       "    </tr>\n",
       "    <tr>\n",
       "      <th>2</th>\n",
       "      <td>FDN15</td>\n",
       "      <td>17.50</td>\n",
       "      <td>Low Fat</td>\n",
       "      <td>0.016760</td>\n",
       "      <td>Meat</td>\n",
       "      <td>141.6180</td>\n",
       "      <td>OUT049</td>\n",
       "      <td>1999</td>\n",
       "      <td>Medium</td>\n",
       "      <td>Tier 1</td>\n",
       "      <td>Supermarket Type1</td>\n",
       "      <td>2097.270000</td>\n",
       "    </tr>\n",
       "    <tr>\n",
       "      <th>3</th>\n",
       "      <td>FDX07</td>\n",
       "      <td>19.20</td>\n",
       "      <td>Regular</td>\n",
       "      <td>0.074402</td>\n",
       "      <td>Fruits and Vegetables</td>\n",
       "      <td>182.0950</td>\n",
       "      <td>OUT010</td>\n",
       "      <td>1998</td>\n",
       "      <td>Medium</td>\n",
       "      <td>Tier 3</td>\n",
       "      <td>Grocery Store</td>\n",
       "      <td>732.380000</td>\n",
       "    </tr>\n",
       "    <tr>\n",
       "      <th>4</th>\n",
       "      <td>NCD19</td>\n",
       "      <td>8.93</td>\n",
       "      <td>Low Fat</td>\n",
       "      <td>0.064299</td>\n",
       "      <td>Household</td>\n",
       "      <td>53.8614</td>\n",
       "      <td>OUT013</td>\n",
       "      <td>1987</td>\n",
       "      <td>High</td>\n",
       "      <td>Tier 3</td>\n",
       "      <td>Supermarket Type1</td>\n",
       "      <td>994.705200</td>\n",
       "    </tr>\n",
       "    <tr>\n",
       "      <th>...</th>\n",
       "      <td>...</td>\n",
       "      <td>...</td>\n",
       "      <td>...</td>\n",
       "      <td>...</td>\n",
       "      <td>...</td>\n",
       "      <td>...</td>\n",
       "      <td>...</td>\n",
       "      <td>...</td>\n",
       "      <td>...</td>\n",
       "      <td>...</td>\n",
       "      <td>...</td>\n",
       "      <td>...</td>\n",
       "    </tr>\n",
       "    <tr>\n",
       "      <th>14199</th>\n",
       "      <td>FDB58</td>\n",
       "      <td>10.50</td>\n",
       "      <td>Regular</td>\n",
       "      <td>0.013496</td>\n",
       "      <td>Snack Foods</td>\n",
       "      <td>141.3154</td>\n",
       "      <td>OUT046</td>\n",
       "      <td>1997</td>\n",
       "      <td>Small</td>\n",
       "      <td>Tier 1</td>\n",
       "      <td>Supermarket Type1</td>\n",
       "      <td>2316.181148</td>\n",
       "    </tr>\n",
       "    <tr>\n",
       "      <th>14200</th>\n",
       "      <td>FDD47</td>\n",
       "      <td>7.60</td>\n",
       "      <td>Regular</td>\n",
       "      <td>0.142991</td>\n",
       "      <td>Starchy Foods</td>\n",
       "      <td>169.1448</td>\n",
       "      <td>OUT018</td>\n",
       "      <td>2009</td>\n",
       "      <td>Medium</td>\n",
       "      <td>Tier 3</td>\n",
       "      <td>Supermarket Type2</td>\n",
       "      <td>1995.498739</td>\n",
       "    </tr>\n",
       "    <tr>\n",
       "      <th>14201</th>\n",
       "      <td>NCO17</td>\n",
       "      <td>10.00</td>\n",
       "      <td>Low Fat</td>\n",
       "      <td>0.073529</td>\n",
       "      <td>Health and Hygiene</td>\n",
       "      <td>118.7440</td>\n",
       "      <td>OUT045</td>\n",
       "      <td>2002</td>\n",
       "      <td>Small</td>\n",
       "      <td>Tier 2</td>\n",
       "      <td>Supermarket Type1</td>\n",
       "      <td>2316.181148</td>\n",
       "    </tr>\n",
       "    <tr>\n",
       "      <th>14202</th>\n",
       "      <td>FDJ26</td>\n",
       "      <td>15.30</td>\n",
       "      <td>Regular</td>\n",
       "      <td>0.064709</td>\n",
       "      <td>Canned</td>\n",
       "      <td>214.6218</td>\n",
       "      <td>OUT017</td>\n",
       "      <td>2007</td>\n",
       "      <td>Small</td>\n",
       "      <td>Tier 2</td>\n",
       "      <td>Supermarket Type1</td>\n",
       "      <td>2316.181148</td>\n",
       "    </tr>\n",
       "    <tr>\n",
       "      <th>14203</th>\n",
       "      <td>FDU37</td>\n",
       "      <td>9.50</td>\n",
       "      <td>Regular</td>\n",
       "      <td>0.104720</td>\n",
       "      <td>Canned</td>\n",
       "      <td>79.7960</td>\n",
       "      <td>OUT045</td>\n",
       "      <td>2002</td>\n",
       "      <td>Small</td>\n",
       "      <td>Tier 2</td>\n",
       "      <td>Supermarket Type1</td>\n",
       "      <td>2316.181148</td>\n",
       "    </tr>\n",
       "  </tbody>\n",
       "</table>\n",
       "<p>14204 rows × 12 columns</p>\n",
       "</div>"
      ],
      "text/plain": [
       "      Item_Identifier  Item_Weight Item_Fat_Content  Item_Visibility  \\\n",
       "0               FDA15         9.30          Low Fat         0.016047   \n",
       "1               DRC01         5.92          Regular         0.019278   \n",
       "2               FDN15        17.50          Low Fat         0.016760   \n",
       "3               FDX07        19.20          Regular         0.074402   \n",
       "4               NCD19         8.93          Low Fat         0.064299   \n",
       "...               ...          ...              ...              ...   \n",
       "14199           FDB58        10.50          Regular         0.013496   \n",
       "14200           FDD47         7.60          Regular         0.142991   \n",
       "14201           NCO17        10.00          Low Fat         0.073529   \n",
       "14202           FDJ26        15.30          Regular         0.064709   \n",
       "14203           FDU37         9.50          Regular         0.104720   \n",
       "\n",
       "                   Item_Type  Item_MRP Outlet_Identifier  \\\n",
       "0                      Dairy  249.8092            OUT049   \n",
       "1                Soft Drinks   48.2692            OUT018   \n",
       "2                       Meat  141.6180            OUT049   \n",
       "3      Fruits and Vegetables  182.0950            OUT010   \n",
       "4                  Household   53.8614            OUT013   \n",
       "...                      ...       ...               ...   \n",
       "14199            Snack Foods  141.3154            OUT046   \n",
       "14200          Starchy Foods  169.1448            OUT018   \n",
       "14201     Health and Hygiene  118.7440            OUT045   \n",
       "14202                 Canned  214.6218            OUT017   \n",
       "14203                 Canned   79.7960            OUT045   \n",
       "\n",
       "       Outlet_Establishment_Year Outlet_Size Outlet_Location_Type  \\\n",
       "0                           1999      Medium               Tier 1   \n",
       "1                           2009      Medium               Tier 3   \n",
       "2                           1999      Medium               Tier 1   \n",
       "3                           1998      Medium               Tier 3   \n",
       "4                           1987        High               Tier 3   \n",
       "...                          ...         ...                  ...   \n",
       "14199                       1997       Small               Tier 1   \n",
       "14200                       2009      Medium               Tier 3   \n",
       "14201                       2002       Small               Tier 2   \n",
       "14202                       2007       Small               Tier 2   \n",
       "14203                       2002       Small               Tier 2   \n",
       "\n",
       "             Outlet_Type  Item_Outlet_Sales  \n",
       "0      Supermarket Type1        3735.138000  \n",
       "1      Supermarket Type2         443.422800  \n",
       "2      Supermarket Type1        2097.270000  \n",
       "3          Grocery Store         732.380000  \n",
       "4      Supermarket Type1         994.705200  \n",
       "...                  ...                ...  \n",
       "14199  Supermarket Type1        2316.181148  \n",
       "14200  Supermarket Type2        1995.498739  \n",
       "14201  Supermarket Type1        2316.181148  \n",
       "14202  Supermarket Type1        2316.181148  \n",
       "14203  Supermarket Type1        2316.181148  \n",
       "\n",
       "[14204 rows x 12 columns]"
      ]
     },
     "execution_count": 17,
     "metadata": {},
     "output_type": "execute_result"
    }
   ],
   "source": [
    "df"
   ]
  },
  {
   "cell_type": "markdown",
   "id": "9b464f96",
   "metadata": {},
   "source": [
    "### <font color=crimson > Now There is no null values present in this dataset ."
   ]
  },
  {
   "cell_type": "markdown",
   "id": "87f8a044",
   "metadata": {},
   "source": [
    "## Data Vizualization --"
   ]
  },
  {
   "cell_type": "code",
   "execution_count": 18,
   "id": "9768731b",
   "metadata": {},
   "outputs": [
    {
     "data": {
      "image/png": "[encoded data removed]",
      "text/plain": [
       "<Figure size 936x360 with 1 Axes>"
      ]
     },
     "metadata": {
      "needs_background": "light"
     },
     "output_type": "display_data"
    }
   ],
   "source": [
    "plt.figure(figsize=(13,5))\n",
    "plt.title(\"Sales vs Years\",fontsize=20,fontweight=\"bold\")\n",
    "sb.barplot(x=df[\"Outlet_Establishment_Year\"],y=df[\"Item_Outlet_Sales\"],ci=None,)\n",
    "plt.show()"
   ]
  },
  {
   "cell_type": "markdown",
   "id": "e8cf3ca6",
   "metadata": {},
   "source": [
    "### <font color=dark><u>INTERPRETATION :\n",
    "    \n",
    "### <font color=magneta > In Year 1985 the Sales is more i.e 2400 But in 1998 the sales is gone down too much i.e 250.\n"
   ]
  },
  {
   "cell_type": "code",
   "execution_count": 19,
   "id": "1beecfed",
   "metadata": {},
   "outputs": [
    {
     "data": {
      "image/png": "[encoded data removed]",
      "text/plain": [
       "<Figure size 1080x360 with 2 Axes>"
      ]
     },
     "metadata": {
      "needs_background": "light"
     },
     "output_type": "display_data"
    }
   ],
   "source": [
    "plt.figure(figsize =(15, 5))\n",
    "plt.subplots_adjust(wspace=0.5)\n",
    "plt.subplot(1,2,1)\n",
    "plt.title(\"Item Types vs Sales\",fontsize=20,fontweight=\"bold\")\n",
    "plt.barh(df.Item_Type,df.Item_Outlet_Sales,color=\"olivedrab\")\n",
    "\n",
    "plt.subplot(1,2,2)\n",
    "plt.title(\"Outlet Type vs Sales\",fontsize=20,fontweight=\"bold\")\n",
    "plt.barh(df.Outlet_Type,df.Item_Outlet_Sales,color=\"olivedrab\")\n",
    "\n",
    "plt.show()"
   ]
  },
  {
   "cell_type": "markdown",
   "id": "4b2d6b64",
   "metadata": {},
   "source": [
    "### <font color=dark><u>INTERPRETATION :\n",
    "    \n",
    "### <font color=magneta > In Year 1985 the Sales is more i.e 2400 But in 1998 the sales is gone down too much i.e 250."
   ]
  },
  {
   "cell_type": "code",
   "execution_count": 20,
   "id": "5b39de54",
   "metadata": {},
   "outputs": [
    {
     "data": {
      "image/png": "[encoded data removed]",
      "text/plain": [
       "<Figure size 1080x360 with 1 Axes>"
      ]
     },
     "metadata": {},
     "output_type": "display_data"
    }
   ],
   "source": [
    "plt.figure(figsize =(15, 5))\n",
    "plt.title(\" Outlet Type\",fontsize=20,fontweight=\"bold\")\n",
    "percentage = df[\"Outlet_Type\"].value_counts()\n",
    "labels = list(df[\"Outlet_Type\"].value_counts().index)\n",
    "plt.pie(percentage,labels = labels, autopct= \"%0.2f%%\")\n",
    "\n",
    "plt.show()"
   ]
  },
  {
   "cell_type": "markdown",
   "id": "f1b21eaa",
   "metadata": {},
   "source": [
    "### <font color=dark><u>INTERPRETATION :\n",
    "    \n",
    "### <font color=magneta > *In Store The Quantity of Fruits and Vegitable type is more in the superstore and the Quantity of Seafood is less from others in the Superstore.\n",
    "### <font color=magneta > *In Supermarket the Maximum no of items is from Supermarket Type 1 that is approx 65 % and minimum no of prodects is from Supermarket Type 2."
   ]
  },
  {
   "cell_type": "code",
   "execution_count": 21,
   "id": "9bfcb0e2",
   "metadata": {},
   "outputs": [
    {
     "data": {
      "image/png": "[encoded data removed]",
      "text/plain": [
       "<Figure size 1080x360 with 2 Axes>"
      ]
     },
     "metadata": {
      "needs_background": "light"
     },
     "output_type": "display_data"
    }
   ],
   "source": [
    "plt.figure(figsize =(15, 5))\n",
    "plt.subplots_adjust(wspace=0.5)\n",
    "plt.subplot(1,2,1)\n",
    "plt.title(\"Item_MRP\",fontsize=20,fontweight=\"bold\")\n",
    "sb.kdeplot(x=df[\"Item_MRP\"],shade=True,color = \"red\")\n",
    "\n",
    "plt.subplot(1,2,2)\n",
    "plt.title(\"Item_Outlet_Sales\",fontsize=20,fontweight=\"bold\")\n",
    "sb.kdeplot(x=df[\"Item_Outlet_Sales\"],shade=True,color = \"Green\")\n",
    "\n",
    "plt.show()"
   ]
  },
  {
   "cell_type": "markdown",
   "id": "09392d51",
   "metadata": {},
   "source": [
    "### <font color=dark>INTERPRETATION :\n",
    "    \n",
    "### <font color=magneta >* The MRP of the items which is in the Superstore is from 1 to 300 and Max no of the products is nearly 100.\n",
    "### <font color=magneta >* The Sales distribution is from 0 to 14000 the most of the sales is in left side that is from 0 to 6000 so we can say that the data is right squed."
   ]
  },
  {
   "cell_type": "code",
   "execution_count": 22,
   "id": "99943fcf",
   "metadata": {},
   "outputs": [
    {
     "data": {
      "text/html": [
       "<div>\n",
       "<style scoped>\n",
       "    .dataframe tbody tr th:only-of-type {\n",
       "        vertical-align: middle;\n",
       "    }\n",
       "\n",
       "    .dataframe tbody tr th {\n",
       "        vertical-align: top;\n",
       "    }\n",
       "\n",
       "    .dataframe thead th {\n",
       "        text-align: right;\n",
       "    }\n",
       "</style>\n",
       "<table border=\"1\" class=\"dataframe\">\n",
       "  <thead>\n",
       "    <tr style=\"text-align: right;\">\n",
       "      <th></th>\n",
       "      <th>Item_Identifier</th>\n",
       "      <th>Item_Fat_Content</th>\n",
       "      <th>Item_Type</th>\n",
       "      <th>Outlet_Identifier</th>\n",
       "      <th>Outlet_Size</th>\n",
       "      <th>Outlet_Location_Type</th>\n",
       "      <th>Outlet_Type</th>\n",
       "    </tr>\n",
       "  </thead>\n",
       "  <tbody>\n",
       "    <tr>\n",
       "      <th>0</th>\n",
       "      <td>FDA15</td>\n",
       "      <td>Low Fat</td>\n",
       "      <td>Dairy</td>\n",
       "      <td>OUT049</td>\n",
       "      <td>Medium</td>\n",
       "      <td>Tier 1</td>\n",
       "      <td>Supermarket Type1</td>\n",
       "    </tr>\n",
       "    <tr>\n",
       "      <th>1</th>\n",
       "      <td>DRC01</td>\n",
       "      <td>Regular</td>\n",
       "      <td>Soft Drinks</td>\n",
       "      <td>OUT018</td>\n",
       "      <td>Medium</td>\n",
       "      <td>Tier 3</td>\n",
       "      <td>Supermarket Type2</td>\n",
       "    </tr>\n",
       "    <tr>\n",
       "      <th>2</th>\n",
       "      <td>FDN15</td>\n",
       "      <td>Low Fat</td>\n",
       "      <td>Meat</td>\n",
       "      <td>OUT049</td>\n",
       "      <td>Medium</td>\n",
       "      <td>Tier 1</td>\n",
       "      <td>Supermarket Type1</td>\n",
       "    </tr>\n",
       "    <tr>\n",
       "      <th>3</th>\n",
       "      <td>FDX07</td>\n",
       "      <td>Regular</td>\n",
       "      <td>Fruits and Vegetables</td>\n",
       "      <td>OUT010</td>\n",
       "      <td>Medium</td>\n",
       "      <td>Tier 3</td>\n",
       "      <td>Grocery Store</td>\n",
       "    </tr>\n",
       "    <tr>\n",
       "      <th>4</th>\n",
       "      <td>NCD19</td>\n",
       "      <td>Low Fat</td>\n",
       "      <td>Household</td>\n",
       "      <td>OUT013</td>\n",
       "      <td>High</td>\n",
       "      <td>Tier 3</td>\n",
       "      <td>Supermarket Type1</td>\n",
       "    </tr>\n",
       "    <tr>\n",
       "      <th>...</th>\n",
       "      <td>...</td>\n",
       "      <td>...</td>\n",
       "      <td>...</td>\n",
       "      <td>...</td>\n",
       "      <td>...</td>\n",
       "      <td>...</td>\n",
       "      <td>...</td>\n",
       "    </tr>\n",
       "    <tr>\n",
       "      <th>14199</th>\n",
       "      <td>FDB58</td>\n",
       "      <td>Regular</td>\n",
       "      <td>Snack Foods</td>\n",
       "      <td>OUT046</td>\n",
       "      <td>Small</td>\n",
       "      <td>Tier 1</td>\n",
       "      <td>Supermarket Type1</td>\n",
       "    </tr>\n",
       "    <tr>\n",
       "      <th>14200</th>\n",
       "      <td>FDD47</td>\n",
       "      <td>Regular</td>\n",
       "      <td>Starchy Foods</td>\n",
       "      <td>OUT018</td>\n",
       "      <td>Medium</td>\n",
       "      <td>Tier 3</td>\n",
       "      <td>Supermarket Type2</td>\n",
       "    </tr>\n",
       "    <tr>\n",
       "      <th>14201</th>\n",
       "      <td>NCO17</td>\n",
       "      <td>Low Fat</td>\n",
       "      <td>Health and Hygiene</td>\n",
       "      <td>OUT045</td>\n",
       "      <td>Small</td>\n",
       "      <td>Tier 2</td>\n",
       "      <td>Supermarket Type1</td>\n",
       "    </tr>\n",
       "    <tr>\n",
       "      <th>14202</th>\n",
       "      <td>FDJ26</td>\n",
       "      <td>Regular</td>\n",
       "      <td>Canned</td>\n",
       "      <td>OUT017</td>\n",
       "      <td>Small</td>\n",
       "      <td>Tier 2</td>\n",
       "      <td>Supermarket Type1</td>\n",
       "    </tr>\n",
       "    <tr>\n",
       "      <th>14203</th>\n",
       "      <td>FDU37</td>\n",
       "      <td>Regular</td>\n",
       "      <td>Canned</td>\n",
       "      <td>OUT045</td>\n",
       "      <td>Small</td>\n",
       "      <td>Tier 2</td>\n",
       "      <td>Supermarket Type1</td>\n",
       "    </tr>\n",
       "  </tbody>\n",
       "</table>\n",
       "<p>14204 rows × 7 columns</p>\n",
       "</div>"
      ],
      "text/plain": [
       "      Item_Identifier Item_Fat_Content              Item_Type  \\\n",
       "0               FDA15          Low Fat                  Dairy   \n",
       "1               DRC01          Regular            Soft Drinks   \n",
       "2               FDN15          Low Fat                   Meat   \n",
       "3               FDX07          Regular  Fruits and Vegetables   \n",
       "4               NCD19          Low Fat              Household   \n",
       "...               ...              ...                    ...   \n",
       "14199           FDB58          Regular            Snack Foods   \n",
       "14200           FDD47          Regular          Starchy Foods   \n",
       "14201           NCO17          Low Fat     Health and Hygiene   \n",
       "14202           FDJ26          Regular                 Canned   \n",
       "14203           FDU37          Regular                 Canned   \n",
       "\n",
       "      Outlet_Identifier Outlet_Size Outlet_Location_Type        Outlet_Type  \n",
       "0                OUT049      Medium               Tier 1  Supermarket Type1  \n",
       "1                OUT018      Medium               Tier 3  Supermarket Type2  \n",
       "2                OUT049      Medium               Tier 1  Supermarket Type1  \n",
       "3                OUT010      Medium               Tier 3      Grocery Store  \n",
       "4                OUT013        High               Tier 3  Supermarket Type1  \n",
       "...                 ...         ...                  ...                ...  \n",
       "14199            OUT046       Small               Tier 1  Supermarket Type1  \n",
       "14200            OUT018      Medium               Tier 3  Supermarket Type2  \n",
       "14201            OUT045       Small               Tier 2  Supermarket Type1  \n",
       "14202            OUT017       Small               Tier 2  Supermarket Type1  \n",
       "14203            OUT045       Small               Tier 2  Supermarket Type1  \n",
       "\n",
       "[14204 rows x 7 columns]"
      ]
     },
     "execution_count": 22,
     "metadata": {},
     "output_type": "execute_result"
    }
   ],
   "source": [
    "object_column=df.select_dtypes(include=object)\n",
    "object_column"
   ]
  },
  {
   "cell_type": "code",
   "execution_count": 23,
   "id": "a6f5365c",
   "metadata": {},
   "outputs": [],
   "source": [
    "for col in object_column.columns:                      # Convert Object Features ino Categorical DataType\n",
    "    df[col]=df[col].astype(\"category\")"
   ]
  },
  {
   "cell_type": "code",
   "execution_count": 24,
   "id": "1eb86bbd",
   "metadata": {},
   "outputs": [
    {
     "data": {
      "text/plain": [
       "Item_Identifier              category\n",
       "Item_Weight                   float64\n",
       "Item_Fat_Content             category\n",
       "Item_Visibility               float64\n",
       "Item_Type                    category\n",
       "Item_MRP                      float64\n",
       "Outlet_Identifier            category\n",
       "Outlet_Establishment_Year       int64\n",
       "Outlet_Size                  category\n",
       "Outlet_Location_Type         category\n",
       "Outlet_Type                  category\n",
       "Item_Outlet_Sales             float64\n",
       "dtype: object"
      ]
     },
     "execution_count": 24,
     "metadata": {},
     "output_type": "execute_result"
    }
   ],
   "source": [
    "df.dtypes                                              # Checking DataTypes"
   ]
  },
  {
   "cell_type": "markdown",
   "id": "ea49941e",
   "metadata": {},
   "source": [
    "## Label Encoding --"
   ]
  },
  {
   "cell_type": "code",
   "execution_count": 25,
   "id": "aa86defc",
   "metadata": {},
   "outputs": [],
   "source": [
    "label_encoder=preprocessing.LabelEncoder()\n",
    "for col in object_column.columns:                      # Doing Label Encoding of all the Object Features And convert it into a numerical \n",
    "    df[col]=label_encoder.fit_transform(df[col])"
   ]
  },
  {
   "cell_type": "code",
   "execution_count": 26,
   "id": "ea0702f7",
   "metadata": {},
   "outputs": [
    {
     "data": {
      "text/html": [
       "<div>\n",
       "<style scoped>\n",
       "    .dataframe tbody tr th:only-of-type {\n",
       "        vertical-align: middle;\n",
       "    }\n",
       "\n",
       "    .dataframe tbody tr th {\n",
       "        vertical-align: top;\n",
       "    }\n",
       "\n",
       "    .dataframe thead th {\n",
       "        text-align: right;\n",
       "    }\n",
       "</style>\n",
       "<table border=\"1\" class=\"dataframe\">\n",
       "  <thead>\n",
       "    <tr style=\"text-align: right;\">\n",
       "      <th></th>\n",
       "      <th>Item_Identifier</th>\n",
       "      <th>Item_Weight</th>\n",
       "      <th>Item_Fat_Content</th>\n",
       "      <th>Item_Visibility</th>\n",
       "      <th>Item_Type</th>\n",
       "      <th>Item_MRP</th>\n",
       "      <th>Outlet_Identifier</th>\n",
       "      <th>Outlet_Establishment_Year</th>\n",
       "      <th>Outlet_Size</th>\n",
       "      <th>Outlet_Location_Type</th>\n",
       "      <th>Outlet_Type</th>\n",
       "      <th>Item_Outlet_Sales</th>\n",
       "    </tr>\n",
       "  </thead>\n",
       "  <tbody>\n",
       "    <tr>\n",
       "      <th>0</th>\n",
       "      <td>156</td>\n",
       "      <td>9.30</td>\n",
       "      <td>0</td>\n",
       "      <td>0.016047</td>\n",
       "      <td>4</td>\n",
       "      <td>249.8092</td>\n",
       "      <td>9</td>\n",
       "      <td>1999</td>\n",
       "      <td>1</td>\n",
       "      <td>0</td>\n",
       "      <td>1</td>\n",
       "      <td>3735.138000</td>\n",
       "    </tr>\n",
       "    <tr>\n",
       "      <th>1</th>\n",
       "      <td>8</td>\n",
       "      <td>5.92</td>\n",
       "      <td>1</td>\n",
       "      <td>0.019278</td>\n",
       "      <td>14</td>\n",
       "      <td>48.2692</td>\n",
       "      <td>3</td>\n",
       "      <td>2009</td>\n",
       "      <td>1</td>\n",
       "      <td>2</td>\n",
       "      <td>2</td>\n",
       "      <td>443.422800</td>\n",
       "    </tr>\n",
       "    <tr>\n",
       "      <th>2</th>\n",
       "      <td>662</td>\n",
       "      <td>17.50</td>\n",
       "      <td>0</td>\n",
       "      <td>0.016760</td>\n",
       "      <td>10</td>\n",
       "      <td>141.6180</td>\n",
       "      <td>9</td>\n",
       "      <td>1999</td>\n",
       "      <td>1</td>\n",
       "      <td>0</td>\n",
       "      <td>1</td>\n",
       "      <td>2097.270000</td>\n",
       "    </tr>\n",
       "    <tr>\n",
       "      <th>3</th>\n",
       "      <td>1121</td>\n",
       "      <td>19.20</td>\n",
       "      <td>1</td>\n",
       "      <td>0.074402</td>\n",
       "      <td>6</td>\n",
       "      <td>182.0950</td>\n",
       "      <td>0</td>\n",
       "      <td>1998</td>\n",
       "      <td>1</td>\n",
       "      <td>2</td>\n",
       "      <td>0</td>\n",
       "      <td>732.380000</td>\n",
       "    </tr>\n",
       "    <tr>\n",
       "      <th>4</th>\n",
       "      <td>1297</td>\n",
       "      <td>8.93</td>\n",
       "      <td>0</td>\n",
       "      <td>0.064299</td>\n",
       "      <td>9</td>\n",
       "      <td>53.8614</td>\n",
       "      <td>1</td>\n",
       "      <td>1987</td>\n",
       "      <td>0</td>\n",
       "      <td>2</td>\n",
       "      <td>1</td>\n",
       "      <td>994.705200</td>\n",
       "    </tr>\n",
       "    <tr>\n",
       "      <th>...</th>\n",
       "      <td>...</td>\n",
       "      <td>...</td>\n",
       "      <td>...</td>\n",
       "      <td>...</td>\n",
       "      <td>...</td>\n",
       "      <td>...</td>\n",
       "      <td>...</td>\n",
       "      <td>...</td>\n",
       "      <td>...</td>\n",
       "      <td>...</td>\n",
       "      <td>...</td>\n",
       "      <td>...</td>\n",
       "    </tr>\n",
       "    <tr>\n",
       "      <th>14199</th>\n",
       "      <td>233</td>\n",
       "      <td>10.50</td>\n",
       "      <td>1</td>\n",
       "      <td>0.013496</td>\n",
       "      <td>13</td>\n",
       "      <td>141.3154</td>\n",
       "      <td>8</td>\n",
       "      <td>1997</td>\n",
       "      <td>2</td>\n",
       "      <td>0</td>\n",
       "      <td>1</td>\n",
       "      <td>2316.181148</td>\n",
       "    </tr>\n",
       "    <tr>\n",
       "      <th>14200</th>\n",
       "      <td>308</td>\n",
       "      <td>7.60</td>\n",
       "      <td>1</td>\n",
       "      <td>0.142991</td>\n",
       "      <td>15</td>\n",
       "      <td>169.1448</td>\n",
       "      <td>3</td>\n",
       "      <td>2009</td>\n",
       "      <td>1</td>\n",
       "      <td>2</td>\n",
       "      <td>2</td>\n",
       "      <td>1995.498739</td>\n",
       "    </tr>\n",
       "    <tr>\n",
       "      <th>14201</th>\n",
       "      <td>1426</td>\n",
       "      <td>10.00</td>\n",
       "      <td>0</td>\n",
       "      <td>0.073529</td>\n",
       "      <td>8</td>\n",
       "      <td>118.7440</td>\n",
       "      <td>7</td>\n",
       "      <td>2002</td>\n",
       "      <td>2</td>\n",
       "      <td>1</td>\n",
       "      <td>1</td>\n",
       "      <td>2316.181148</td>\n",
       "    </tr>\n",
       "    <tr>\n",
       "      <th>14202</th>\n",
       "      <td>521</td>\n",
       "      <td>15.30</td>\n",
       "      <td>1</td>\n",
       "      <td>0.064709</td>\n",
       "      <td>3</td>\n",
       "      <td>214.6218</td>\n",
       "      <td>2</td>\n",
       "      <td>2007</td>\n",
       "      <td>2</td>\n",
       "      <td>1</td>\n",
       "      <td>1</td>\n",
       "      <td>2316.181148</td>\n",
       "    </tr>\n",
       "    <tr>\n",
       "      <th>14203</th>\n",
       "      <td>997</td>\n",
       "      <td>9.50</td>\n",
       "      <td>1</td>\n",
       "      <td>0.104720</td>\n",
       "      <td>3</td>\n",
       "      <td>79.7960</td>\n",
       "      <td>7</td>\n",
       "      <td>2002</td>\n",
       "      <td>2</td>\n",
       "      <td>1</td>\n",
       "      <td>1</td>\n",
       "      <td>2316.181148</td>\n",
       "    </tr>\n",
       "  </tbody>\n",
       "</table>\n",
       "<p>14204 rows × 12 columns</p>\n",
       "</div>"
      ],
      "text/plain": [
       "       Item_Identifier  Item_Weight  Item_Fat_Content  Item_Visibility  \\\n",
       "0                  156         9.30                 0         0.016047   \n",
       "1                    8         5.92                 1         0.019278   \n",
       "2                  662        17.50                 0         0.016760   \n",
       "3                 1121        19.20                 1         0.074402   \n",
       "4                 1297         8.93                 0         0.064299   \n",
       "...                ...          ...               ...              ...   \n",
       "14199              233        10.50                 1         0.013496   \n",
       "14200              308         7.60                 1         0.142991   \n",
       "14201             1426        10.00                 0         0.073529   \n",
       "14202              521        15.30                 1         0.064709   \n",
       "14203              997         9.50                 1         0.104720   \n",
       "\n",
       "       Item_Type  Item_MRP  Outlet_Identifier  Outlet_Establishment_Year  \\\n",
       "0              4  249.8092                  9                       1999   \n",
       "1             14   48.2692                  3                       2009   \n",
       "2             10  141.6180                  9                       1999   \n",
       "3              6  182.0950                  0                       1998   \n",
       "4              9   53.8614                  1                       1987   \n",
       "...          ...       ...                ...                        ...   \n",
       "14199         13  141.3154                  8                       1997   \n",
       "14200         15  169.1448                  3                       2009   \n",
       "14201          8  118.7440                  7                       2002   \n",
       "14202          3  214.6218                  2                       2007   \n",
       "14203          3   79.7960                  7                       2002   \n",
       "\n",
       "       Outlet_Size  Outlet_Location_Type  Outlet_Type  Item_Outlet_Sales  \n",
       "0                1                     0            1        3735.138000  \n",
       "1                1                     2            2         443.422800  \n",
       "2                1                     0            1        2097.270000  \n",
       "3                1                     2            0         732.380000  \n",
       "4                0                     2            1         994.705200  \n",
       "...            ...                   ...          ...                ...  \n",
       "14199            2                     0            1        2316.181148  \n",
       "14200            1                     2            2        1995.498739  \n",
       "14201            2                     1            1        2316.181148  \n",
       "14202            2                     1            1        2316.181148  \n",
       "14203            2                     1            1        2316.181148  \n",
       "\n",
       "[14204 rows x 12 columns]"
      ]
     },
     "execution_count": 26,
     "metadata": {},
     "output_type": "execute_result"
    }
   ],
   "source": [
    "df                                                     "
   ]
  },
  {
   "cell_type": "code",
   "execution_count": 27,
   "id": "2cacdb9a",
   "metadata": {},
   "outputs": [
    {
     "data": {
      "image/png": "[encoded data removed]",
      "text/plain": [
       "<Figure size 1080x576 with 5 Axes>"
      ]
     },
     "metadata": {
      "needs_background": "light"
     },
     "output_type": "display_data"
    }
   ],
   "source": [
    "plt.figure(figsize =(15, 8))                           # Set Figure Sizes \n",
    "plt.subplots_adjust(wspace=0.5)                        # Adjust Spacing between the graphs \n",
    "plt.subplots_adjust(hspace=0.6)                        # Adject spacing between the two graphs \n",
    "plt.subplot(2,3,1)                                     # ploting subplots \n",
    "plt.title(\"Item_Weight\",fontsize=13,fontweight=\"bold\") # Set title\n",
    "sb.histplot(df[\"Item_Weight\"],color=\"green\")           # Creating histplot \n",
    "\n",
    "plt.subplot(2,3,2)\n",
    "plt.title(\"Item_Visibility\",fontsize=13,fontweight=\"bold\")\n",
    "sb.histplot(df[\"Item_Visibility\"],color=\"green\")\n",
    "\n",
    "plt.subplot(2,3,3)\n",
    "plt.title(\"Item_MRP\",fontsize=13,fontweight=\"bold\")\n",
    "sb.histplot(df[\"Item_MRP\"],color=\"green\")\n",
    "\n",
    "plt.subplot(2,3,4)\n",
    "plt.title(\"Outlet_Establishment_Year\",fontsize=13,fontweight=\"bold\")\n",
    "sb.histplot(df[\"Outlet_Establishment_Year\"],color=\"green\")\n",
    "\n",
    "plt.subplot(2,3,5)\n",
    "plt.title(\"Item_Outlet_Sales\",fontsize=13,fontweight=\"bold\")\n",
    "sb.histplot(df[\"Item_Outlet_Sales\"],color=\"green\")\n",
    "\n",
    "plt.show()"
   ]
  },
  {
   "cell_type": "markdown",
   "id": "0fbedd9b",
   "metadata": {},
   "source": [
    "## Checking Correlation --"
   ]
  },
  {
   "cell_type": "code",
   "execution_count": 28,
   "id": "df96c636",
   "metadata": {},
   "outputs": [
    {
     "data": {
      "text/html": [
       "<div>\n",
       "<style scoped>\n",
       "    .dataframe tbody tr th:only-of-type {\n",
       "        vertical-align: middle;\n",
       "    }\n",
       "\n",
       "    .dataframe tbody tr th {\n",
       "        vertical-align: top;\n",
       "    }\n",
       "\n",
       "    .dataframe thead th {\n",
       "        text-align: right;\n",
       "    }\n",
       "</style>\n",
       "<table border=\"1\" class=\"dataframe\">\n",
       "  <thead>\n",
       "    <tr style=\"text-align: right;\">\n",
       "      <th></th>\n",
       "      <th>Item_Identifier</th>\n",
       "      <th>Item_Weight</th>\n",
       "      <th>Item_Fat_Content</th>\n",
       "      <th>Item_Visibility</th>\n",
       "      <th>Item_Type</th>\n",
       "      <th>Item_MRP</th>\n",
       "      <th>Outlet_Identifier</th>\n",
       "      <th>Outlet_Establishment_Year</th>\n",
       "      <th>Outlet_Size</th>\n",
       "      <th>Outlet_Location_Type</th>\n",
       "      <th>Outlet_Type</th>\n",
       "      <th>Item_Outlet_Sales</th>\n",
       "    </tr>\n",
       "  </thead>\n",
       "  <tbody>\n",
       "    <tr>\n",
       "      <th>Item_Identifier</th>\n",
       "      <td>1.000000</td>\n",
       "      <td>0.050768</td>\n",
       "      <td>-0.111079</td>\n",
       "      <td>-0.040769</td>\n",
       "      <td>-0.012048</td>\n",
       "      <td>0.010743</td>\n",
       "      <td>-0.001089</td>\n",
       "      <td>-0.002954</td>\n",
       "      <td>0.002209</td>\n",
       "      <td>-0.002473</td>\n",
       "      <td>-0.004532</td>\n",
       "      <td>0.001873</td>\n",
       "    </tr>\n",
       "    <tr>\n",
       "      <th>Item_Weight</th>\n",
       "      <td>0.050768</td>\n",
       "      <td>1.000000</td>\n",
       "      <td>-0.033737</td>\n",
       "      <td>-0.020472</td>\n",
       "      <td>0.031884</td>\n",
       "      <td>0.035751</td>\n",
       "      <td>0.003002</td>\n",
       "      <td>0.000247</td>\n",
       "      <td>0.000944</td>\n",
       "      <td>-0.001719</td>\n",
       "      <td>0.001913</td>\n",
       "      <td>0.012133</td>\n",
       "    </tr>\n",
       "    <tr>\n",
       "      <th>Item_Fat_Content</th>\n",
       "      <td>-0.111079</td>\n",
       "      <td>-0.033737</td>\n",
       "      <td>1.000000</td>\n",
       "      <td>0.048315</td>\n",
       "      <td>-0.147733</td>\n",
       "      <td>-0.004019</td>\n",
       "      <td>-0.001095</td>\n",
       "      <td>0.000137</td>\n",
       "      <td>-0.000827</td>\n",
       "      <td>0.001373</td>\n",
       "      <td>-0.000228</td>\n",
       "      <td>0.012248</td>\n",
       "    </tr>\n",
       "    <tr>\n",
       "      <th>Item_Visibility</th>\n",
       "      <td>-0.040769</td>\n",
       "      <td>-0.020472</td>\n",
       "      <td>0.048315</td>\n",
       "      <td>1.000000</td>\n",
       "      <td>-0.037821</td>\n",
       "      <td>-0.009144</td>\n",
       "      <td>-0.108731</td>\n",
       "      <td>-0.090833</td>\n",
       "      <td>0.026808</td>\n",
       "      <td>-0.020550</td>\n",
       "      <td>-0.172744</td>\n",
       "      <td>-0.155082</td>\n",
       "    </tr>\n",
       "    <tr>\n",
       "      <th>Item_Type</th>\n",
       "      <td>-0.012048</td>\n",
       "      <td>0.031884</td>\n",
       "      <td>-0.147733</td>\n",
       "      <td>-0.037821</td>\n",
       "      <td>1.000000</td>\n",
       "      <td>0.043948</td>\n",
       "      <td>0.001126</td>\n",
       "      <td>0.003061</td>\n",
       "      <td>-0.001080</td>\n",
       "      <td>0.002083</td>\n",
       "      <td>0.004305</td>\n",
       "      <td>0.014660</td>\n",
       "    </tr>\n",
       "    <tr>\n",
       "      <th>Item_MRP</th>\n",
       "      <td>0.010743</td>\n",
       "      <td>0.035751</td>\n",
       "      <td>-0.004019</td>\n",
       "      <td>-0.009144</td>\n",
       "      <td>0.043948</td>\n",
       "      <td>1.000000</td>\n",
       "      <td>-0.000555</td>\n",
       "      <td>0.000141</td>\n",
       "      <td>-0.001305</td>\n",
       "      <td>0.000838</td>\n",
       "      <td>0.000136</td>\n",
       "      <td>0.409811</td>\n",
       "    </tr>\n",
       "    <tr>\n",
       "      <th>Outlet_Identifier</th>\n",
       "      <td>-0.001089</td>\n",
       "      <td>0.003002</td>\n",
       "      <td>-0.001095</td>\n",
       "      <td>-0.108731</td>\n",
       "      <td>0.001126</td>\n",
       "      <td>-0.000555</td>\n",
       "      <td>1.000000</td>\n",
       "      <td>0.079047</td>\n",
       "      <td>0.423623</td>\n",
       "      <td>-0.716151</td>\n",
       "      <td>0.099899</td>\n",
       "      <td>0.195838</td>\n",
       "    </tr>\n",
       "    <tr>\n",
       "      <th>Outlet_Establishment_Year</th>\n",
       "      <td>-0.002954</td>\n",
       "      <td>0.000247</td>\n",
       "      <td>0.000137</td>\n",
       "      <td>-0.090833</td>\n",
       "      <td>0.003061</td>\n",
       "      <td>0.000141</td>\n",
       "      <td>0.079047</td>\n",
       "      <td>1.000000</td>\n",
       "      <td>0.428387</td>\n",
       "      <td>-0.089328</td>\n",
       "      <td>-0.122519</td>\n",
       "      <td>-0.061599</td>\n",
       "    </tr>\n",
       "    <tr>\n",
       "      <th>Outlet_Size</th>\n",
       "      <td>0.002209</td>\n",
       "      <td>0.000944</td>\n",
       "      <td>-0.000827</td>\n",
       "      <td>0.026808</td>\n",
       "      <td>-0.001080</td>\n",
       "      <td>-0.001305</td>\n",
       "      <td>0.423623</td>\n",
       "      <td>0.428387</td>\n",
       "      <td>1.000000</td>\n",
       "      <td>-0.590677</td>\n",
       "      <td>-0.260496</td>\n",
       "      <td>-0.072699</td>\n",
       "    </tr>\n",
       "    <tr>\n",
       "      <th>Outlet_Location_Type</th>\n",
       "      <td>-0.002473</td>\n",
       "      <td>-0.001719</td>\n",
       "      <td>0.001373</td>\n",
       "      <td>-0.020550</td>\n",
       "      <td>0.002083</td>\n",
       "      <td>0.000838</td>\n",
       "      <td>-0.716151</td>\n",
       "      <td>-0.089328</td>\n",
       "      <td>-0.590677</td>\n",
       "      <td>1.000000</td>\n",
       "      <td>0.467251</td>\n",
       "      <td>0.107630</td>\n",
       "    </tr>\n",
       "    <tr>\n",
       "      <th>Outlet_Type</th>\n",
       "      <td>-0.004532</td>\n",
       "      <td>0.001913</td>\n",
       "      <td>-0.000228</td>\n",
       "      <td>-0.172744</td>\n",
       "      <td>0.004305</td>\n",
       "      <td>0.000136</td>\n",
       "      <td>0.099899</td>\n",
       "      <td>-0.122519</td>\n",
       "      <td>-0.260496</td>\n",
       "      <td>0.467251</td>\n",
       "      <td>1.000000</td>\n",
       "      <td>0.481410</td>\n",
       "    </tr>\n",
       "    <tr>\n",
       "      <th>Item_Outlet_Sales</th>\n",
       "      <td>0.001873</td>\n",
       "      <td>0.012133</td>\n",
       "      <td>0.012248</td>\n",
       "      <td>-0.155082</td>\n",
       "      <td>0.014660</td>\n",
       "      <td>0.409811</td>\n",
       "      <td>0.195838</td>\n",
       "      <td>-0.061599</td>\n",
       "      <td>-0.072699</td>\n",
       "      <td>0.107630</td>\n",
       "      <td>0.481410</td>\n",
       "      <td>1.000000</td>\n",
       "    </tr>\n",
       "  </tbody>\n",
       "</table>\n",
       "</div>"
      ],
      "text/plain": [
       "                           Item_Identifier  Item_Weight  Item_Fat_Content  \\\n",
       "Item_Identifier                   1.000000     0.050768         -0.111079   \n",
       "Item_Weight                       0.050768     1.000000         -0.033737   \n",
       "Item_Fat_Content                 -0.111079    -0.033737          1.000000   \n",
       "Item_Visibility                  -0.040769    -0.020472          0.048315   \n",
       "Item_Type                        -0.012048     0.031884         -0.147733   \n",
       "Item_MRP                          0.010743     0.035751         -0.004019   \n",
       "Outlet_Identifier                -0.001089     0.003002         -0.001095   \n",
       "Outlet_Establishment_Year        -0.002954     0.000247          0.000137   \n",
       "Outlet_Size                       0.002209     0.000944         -0.000827   \n",
       "Outlet_Location_Type             -0.002473    -0.001719          0.001373   \n",
       "Outlet_Type                      -0.004532     0.001913         -0.000228   \n",
       "Item_Outlet_Sales                 0.001873     0.012133          0.012248   \n",
       "\n",
       "                           Item_Visibility  Item_Type  Item_MRP  \\\n",
       "Item_Identifier                  -0.040769  -0.012048  0.010743   \n",
       "Item_Weight                      -0.020472   0.031884  0.035751   \n",
       "Item_Fat_Content                  0.048315  -0.147733 -0.004019   \n",
       "Item_Visibility                   1.000000  -0.037821 -0.009144   \n",
       "Item_Type                        -0.037821   1.000000  0.043948   \n",
       "Item_MRP                         -0.009144   0.043948  1.000000   \n",
       "Outlet_Identifier                -0.108731   0.001126 -0.000555   \n",
       "Outlet_Establishment_Year        -0.090833   0.003061  0.000141   \n",
       "Outlet_Size                       0.026808  -0.001080 -0.001305   \n",
       "Outlet_Location_Type             -0.020550   0.002083  0.000838   \n",
       "Outlet_Type                      -0.172744   0.004305  0.000136   \n",
       "Item_Outlet_Sales                -0.155082   0.014660  0.409811   \n",
       "\n",
       "                           Outlet_Identifier  Outlet_Establishment_Year  \\\n",
       "Item_Identifier                    -0.001089                  -0.002954   \n",
       "Item_Weight                         0.003002                   0.000247   \n",
       "Item_Fat_Content                   -0.001095                   0.000137   \n",
       "Item_Visibility                    -0.108731                  -0.090833   \n",
       "Item_Type                           0.001126                   0.003061   \n",
       "Item_MRP                           -0.000555                   0.000141   \n",
       "Outlet_Identifier                   1.000000                   0.079047   \n",
       "Outlet_Establishment_Year           0.079047                   1.000000   \n",
       "Outlet_Size                         0.423623                   0.428387   \n",
       "Outlet_Location_Type               -0.716151                  -0.089328   \n",
       "Outlet_Type                         0.099899                  -0.122519   \n",
       "Item_Outlet_Sales                   0.195838                  -0.061599   \n",
       "\n",
       "                           Outlet_Size  Outlet_Location_Type  Outlet_Type  \\\n",
       "Item_Identifier               0.002209             -0.002473    -0.004532   \n",
       "Item_Weight                   0.000944             -0.001719     0.001913   \n",
       "Item_Fat_Content             -0.000827              0.001373    -0.000228   \n",
       "Item_Visibility               0.026808             -0.020550    -0.172744   \n",
       "Item_Type                    -0.001080              0.002083     0.004305   \n",
       "Item_MRP                     -0.001305              0.000838     0.000136   \n",
       "Outlet_Identifier             0.423623             -0.716151     0.099899   \n",
       "Outlet_Establishment_Year     0.428387             -0.089328    -0.122519   \n",
       "Outlet_Size                   1.000000             -0.590677    -0.260496   \n",
       "Outlet_Location_Type         -0.590677              1.000000     0.467251   \n",
       "Outlet_Type                  -0.260496              0.467251     1.000000   \n",
       "Item_Outlet_Sales            -0.072699              0.107630     0.481410   \n",
       "\n",
       "                           Item_Outlet_Sales  \n",
       "Item_Identifier                     0.001873  \n",
       "Item_Weight                         0.012133  \n",
       "Item_Fat_Content                    0.012248  \n",
       "Item_Visibility                    -0.155082  \n",
       "Item_Type                           0.014660  \n",
       "Item_MRP                            0.409811  \n",
       "Outlet_Identifier                   0.195838  \n",
       "Outlet_Establishment_Year          -0.061599  \n",
       "Outlet_Size                        -0.072699  \n",
       "Outlet_Location_Type                0.107630  \n",
       "Outlet_Type                         0.481410  \n",
       "Item_Outlet_Sales                   1.000000  "
      ]
     },
     "execution_count": 28,
     "metadata": {},
     "output_type": "execute_result"
    }
   ],
   "source": [
    "correlation=df.corr()                                  # Finding correlation as a DataFrame \n",
    "correlation"
   ]
  },
  {
   "cell_type": "markdown",
   "id": "850cea3b",
   "metadata": {},
   "source": [
    "## Heatmap--"
   ]
  },
  {
   "cell_type": "code",
   "execution_count": 29,
   "id": "69bbf1b9",
   "metadata": {},
   "outputs": [
    {
     "data": {
      "image/png": "[encoded data removed]",
      "text/plain": [
       "<Figure size 864x720 with 2 Axes>"
      ]
     },
     "metadata": {
      "needs_background": "light"
     },
     "output_type": "display_data"
    }
   ],
   "source": [
    "plt.figure(figsize=(12,10))                            # Setting figure size of heatmap\n",
    "sb.heatmap(df.corr(),annot=True,fmt='.2g',linewidths=1,linecolor='Black')               # Ploting heatmap correlation \n",
    "plt.show()"
   ]
  },
  {
   "cell_type": "code",
   "execution_count": 30,
   "id": "acfced07",
   "metadata": {},
   "outputs": [
    {
     "data": {
      "text/plain": [
       "Item_Outlet_Sales            1.000000\n",
       "Outlet_Type                  0.481410\n",
       "Item_MRP                     0.409811\n",
       "Outlet_Identifier            0.195838\n",
       "Item_Visibility              0.155082\n",
       "Outlet_Location_Type         0.107630\n",
       "Outlet_Size                  0.072699\n",
       "Outlet_Establishment_Year    0.061599\n",
       "Item_Type                    0.014660\n",
       "Item_Fat_Content             0.012248\n",
       "Item_Weight                  0.012133\n",
       "Item_Identifier              0.001873\n",
       "Name: Item_Outlet_Sales, dtype: float64"
      ]
     },
     "execution_count": 30,
     "metadata": {},
     "output_type": "execute_result"
    }
   ],
   "source": [
    "abs(correlation[\"Item_Outlet_Sales\"]).sort_values(ascending=False)"
   ]
  },
  {
   "cell_type": "markdown",
   "id": "123babb5",
   "metadata": {},
   "source": [
    "### <font color=dark>INTERPRETATION :\n",
    "### <font color=magneta > Here we consider only top highly correlated Features .\n",
    "### <font color=magneta > Outlet_Identifier, Outlet_Type, Item_MRP, Item_Outlet_Sales, Outlet_Location_Type, Item_Visibility.\n"
   ]
  },
  {
   "cell_type": "code",
   "execution_count": 31,
   "id": "c51137e2",
   "metadata": {},
   "outputs": [],
   "source": [
    "col=[\"Item_Visibility\",\"Item_MRP\",\"Outlet_Identifier\",\"Outlet_Location_Type\",\"Outlet_Type\"]"
   ]
  },
  {
   "cell_type": "markdown",
   "id": "37a21fc7",
   "metadata": {},
   "source": [
    "## Data Scaling Through MinMax Scaler --"
   ]
  },
  {
   "cell_type": "code",
   "execution_count": 32,
   "id": "9f5ea04b",
   "metadata": {},
   "outputs": [
    {
     "data": {
      "text/html": [
       "<div>\n",
       "<style scoped>\n",
       "    .dataframe tbody tr th:only-of-type {\n",
       "        vertical-align: middle;\n",
       "    }\n",
       "\n",
       "    .dataframe tbody tr th {\n",
       "        vertical-align: top;\n",
       "    }\n",
       "\n",
       "    .dataframe thead th {\n",
       "        text-align: right;\n",
       "    }\n",
       "</style>\n",
       "<table border=\"1\" class=\"dataframe\">\n",
       "  <thead>\n",
       "    <tr style=\"text-align: right;\">\n",
       "      <th></th>\n",
       "      <th>Item_Visibility</th>\n",
       "      <th>Item_MRP</th>\n",
       "      <th>Outlet_Identifier</th>\n",
       "      <th>Outlet_Location_Type</th>\n",
       "      <th>Outlet_Type</th>\n",
       "    </tr>\n",
       "  </thead>\n",
       "  <tbody>\n",
       "    <tr>\n",
       "      <th>0</th>\n",
       "      <td>0.038399</td>\n",
       "      <td>0.927507</td>\n",
       "      <td>1.000000</td>\n",
       "      <td>0.0</td>\n",
       "      <td>0.333333</td>\n",
       "    </tr>\n",
       "    <tr>\n",
       "      <th>1</th>\n",
       "      <td>0.048346</td>\n",
       "      <td>0.072068</td>\n",
       "      <td>0.333333</td>\n",
       "      <td>1.0</td>\n",
       "      <td>0.666667</td>\n",
       "    </tr>\n",
       "    <tr>\n",
       "      <th>2</th>\n",
       "      <td>0.040593</td>\n",
       "      <td>0.468288</td>\n",
       "      <td>1.000000</td>\n",
       "      <td>0.0</td>\n",
       "      <td>0.333333</td>\n",
       "    </tr>\n",
       "    <tr>\n",
       "      <th>3</th>\n",
       "      <td>0.218055</td>\n",
       "      <td>0.640093</td>\n",
       "      <td>0.000000</td>\n",
       "      <td>1.0</td>\n",
       "      <td>0.000000</td>\n",
       "    </tr>\n",
       "    <tr>\n",
       "      <th>4</th>\n",
       "      <td>0.186950</td>\n",
       "      <td>0.095805</td>\n",
       "      <td>0.111111</td>\n",
       "      <td>1.0</td>\n",
       "      <td>0.333333</td>\n",
       "    </tr>\n",
       "    <tr>\n",
       "      <th>...</th>\n",
       "      <td>...</td>\n",
       "      <td>...</td>\n",
       "      <td>...</td>\n",
       "      <td>...</td>\n",
       "      <td>...</td>\n",
       "    </tr>\n",
       "    <tr>\n",
       "      <th>14199</th>\n",
       "      <td>0.030546</td>\n",
       "      <td>0.467004</td>\n",
       "      <td>0.888889</td>\n",
       "      <td>0.0</td>\n",
       "      <td>0.333333</td>\n",
       "    </tr>\n",
       "    <tr>\n",
       "      <th>14200</th>\n",
       "      <td>0.429216</td>\n",
       "      <td>0.585126</td>\n",
       "      <td>0.333333</td>\n",
       "      <td>1.0</td>\n",
       "      <td>0.666667</td>\n",
       "    </tr>\n",
       "    <tr>\n",
       "      <th>14201</th>\n",
       "      <td>0.215364</td>\n",
       "      <td>0.371199</td>\n",
       "      <td>0.777778</td>\n",
       "      <td>0.5</td>\n",
       "      <td>0.333333</td>\n",
       "    </tr>\n",
       "    <tr>\n",
       "      <th>14202</th>\n",
       "      <td>0.188211</td>\n",
       "      <td>0.778154</td>\n",
       "      <td>0.222222</td>\n",
       "      <td>0.5</td>\n",
       "      <td>0.333333</td>\n",
       "    </tr>\n",
       "    <tr>\n",
       "      <th>14203</th>\n",
       "      <td>0.311393</td>\n",
       "      <td>0.205884</td>\n",
       "      <td>0.777778</td>\n",
       "      <td>0.5</td>\n",
       "      <td>0.333333</td>\n",
       "    </tr>\n",
       "  </tbody>\n",
       "</table>\n",
       "<p>14204 rows × 5 columns</p>\n",
       "</div>"
      ],
      "text/plain": [
       "       Item_Visibility  Item_MRP  Outlet_Identifier  Outlet_Location_Type  \\\n",
       "0             0.038399  0.927507           1.000000                   0.0   \n",
       "1             0.048346  0.072068           0.333333                   1.0   \n",
       "2             0.040593  0.468288           1.000000                   0.0   \n",
       "3             0.218055  0.640093           0.000000                   1.0   \n",
       "4             0.186950  0.095805           0.111111                   1.0   \n",
       "...                ...       ...                ...                   ...   \n",
       "14199         0.030546  0.467004           0.888889                   0.0   \n",
       "14200         0.429216  0.585126           0.333333                   1.0   \n",
       "14201         0.215364  0.371199           0.777778                   0.5   \n",
       "14202         0.188211  0.778154           0.222222                   0.5   \n",
       "14203         0.311393  0.205884           0.777778                   0.5   \n",
       "\n",
       "       Outlet_Type  \n",
       "0         0.333333  \n",
       "1         0.666667  \n",
       "2         0.333333  \n",
       "3         0.000000  \n",
       "4         0.333333  \n",
       "...            ...  \n",
       "14199     0.333333  \n",
       "14200     0.666667  \n",
       "14201     0.333333  \n",
       "14202     0.333333  \n",
       "14203     0.333333  \n",
       "\n",
       "[14204 rows x 5 columns]"
      ]
     },
     "execution_count": 32,
     "metadata": {},
     "output_type": "execute_result"
    }
   ],
   "source": [
    "df_scaled=pd.DataFrame(MinMaxScaler().fit_transform(df[col].to_numpy()),columns=col) # Scale the Data Through MinmAx Scaler \n",
    "df_scaled"
   ]
  },
  {
   "cell_type": "markdown",
   "id": "57be8bc3",
   "metadata": {},
   "source": [
    "## Train test Spliting --"
   ]
  },
  {
   "cell_type": "code",
   "execution_count": 33,
   "id": "7da4e608",
   "metadata": {},
   "outputs": [],
   "source": [
    "x=(df_scaled).values                                   # Put all Independent features into the x variable \n",
    "y=df[[\"Item_Outlet_Sales\"]].values                     # Put Target column into the y Variable "
   ]
  },
  {
   "cell_type": "code",
   "execution_count": 34,
   "id": "13d93347",
   "metadata": {},
   "outputs": [
    {
     "data": {
      "text/plain": [
       "array([[0.03839895, 0.92750715, 1.        , 0.        , 0.33333333],\n",
       "       [0.04834585, 0.0720684 , 0.33333333, 1.        , 0.66666667],\n",
       "       [0.04059334, 0.46828841, 1.        , 0.        , 0.33333333],\n",
       "       ...,\n",
       "       [0.21536442, 0.37119946, 0.77777778, 0.5       , 0.33333333],\n",
       "       [0.18821143, 0.77815384, 0.22222222, 0.5       , 0.33333333],\n",
       "       [0.31139284, 0.20588425, 0.77777778, 0.5       , 0.33333333]])"
      ]
     },
     "execution_count": 34,
     "metadata": {},
     "output_type": "execute_result"
    }
   ],
   "source": [
    "x                                                     "
   ]
  },
  {
   "cell_type": "code",
   "execution_count": 35,
   "id": "9f77488d",
   "metadata": {},
   "outputs": [
    {
     "data": {
      "text/plain": [
       "array([[3735.138   ],\n",
       "       [ 443.4228  ],\n",
       "       [2097.27    ],\n",
       "       ...,\n",
       "       [2316.181148],\n",
       "       [2316.181148],\n",
       "       [2316.181148]])"
      ]
     },
     "execution_count": 35,
     "metadata": {},
     "output_type": "execute_result"
    }
   ],
   "source": [
    "y"
   ]
  },
  {
   "cell_type": "code",
   "execution_count": 36,
   "id": "772807be",
   "metadata": {},
   "outputs": [],
   "source": [
    "x_train,x_test,y_train,y_test=train_test_split(x,y,test_size=0.3,random_state=20) # Splliting the Data into x_train, x_test, y_train, y_test"
   ]
  },
  {
   "cell_type": "code",
   "execution_count": 37,
   "id": "a810e80c",
   "metadata": {},
   "outputs": [
    {
     "data": {
      "text/plain": [
       "(9942, 4262, 9942, 4262)"
      ]
     },
     "execution_count": 37,
     "metadata": {},
     "output_type": "execute_result"
    }
   ],
   "source": [
    "len(x_train),len(x_test),len(y_train),len(y_test)            # Check the length of the training and testing data "
   ]
  },
  {
   "cell_type": "markdown",
   "id": "b57dfb59",
   "metadata": {},
   "source": [
    "## Modeling Through linear Regression --"
   ]
  },
  {
   "cell_type": "code",
   "execution_count": 38,
   "id": "314d340f",
   "metadata": {},
   "outputs": [],
   "source": [
    "Linear_model=LinearRegression().fit(x_train,y_train)         # Create a Linear model and fitted the training data into it "
   ]
  },
  {
   "cell_type": "code",
   "execution_count": 39,
   "id": "40556f6d",
   "metadata": {},
   "outputs": [
    {
     "name": "stdout",
     "output_type": "stream",
     "text": [
      "Linear Regression Training Score  43.53 %\n"
     ]
    }
   ],
   "source": [
    "train_score=round(Linear_model.score(x_train,y_train)*100,2) # Finding the training score of the linear model\n",
    "print(\"Linear Regression Training Score \", train_score,\"%\")"
   ]
  },
  {
   "cell_type": "code",
   "execution_count": 40,
   "id": "e90d01a5",
   "metadata": {},
   "outputs": [
    {
     "name": "stdout",
     "output_type": "stream",
     "text": [
      "Linear Regression Test Score  40.07 %\n"
     ]
    }
   ],
   "source": [
    "test_score=round(Linear_model.score(x_test,y_test)*100,2)    # Finding the testing score of the linear model\n",
    "print(\"Linear Regression Test Score \", test_score,\"%\")"
   ]
  },
  {
   "cell_type": "code",
   "execution_count": 41,
   "id": "b1cf8a1a",
   "metadata": {},
   "outputs": [
    {
     "name": "stdout",
     "output_type": "stream",
     "text": [
      "cofficient of determination : 43.53\n",
      "intercept :                   [-68.99958378]\n",
      "slope :                       [[-470.63910824 2259.65164309  626.43772253  -48.97199345 2485.64744372]]\n"
     ]
    }
   ],
   "source": [
    "print(\"cofficient of determination :\",train_score)           # Finding Cofficient intercept and slope of the linear model \n",
    "print(\"intercept :                  \",Linear_model.intercept_)\n",
    "print(\"slope :                      \",Linear_model.coef_)"
   ]
  },
  {
   "cell_type": "code",
   "execution_count": 42,
   "id": "2a4469ed",
   "metadata": {},
   "outputs": [
    {
     "data": {
      "text/plain": [
       "array([[2316.17024965],\n",
       "       [1385.39771274],\n",
       "       [1958.02515643],\n",
       "       ...,\n",
       "       [1226.3478307 ],\n",
       "       [2183.45973117],\n",
       "       [3057.99110013]])"
      ]
     },
     "execution_count": 42,
     "metadata": {},
     "output_type": "execute_result"
    }
   ],
   "source": [
    "Y_predict_test_lr=Linear_model.predict(x_test)               # Predict the future values of the sales \n",
    "Y_predict_test_lr"
   ]
  },
  {
   "cell_type": "code",
   "execution_count": 43,
   "id": "a33090f6",
   "metadata": {},
   "outputs": [
    {
     "name": "stdout",
     "output_type": "stream",
     "text": [
      "MSE :  1226667.875072166\n",
      "MAE :  824.7739609620297\n",
      "RMSE : 1107.5503939199182\n"
     ]
    }
   ],
   "source": [
    "MSE1=mean_squared_error(y_test,Y_predict_test_lr)                     # Calciulate the Mean Square Error\n",
    "MAE1=mean_absolute_error(y_test,Y_predict_test_lr)                    # Calculate the Mean Absolute Error\n",
    "RMSE1=mean_squared_error(y_test,Y_predict_test_lr, squared=False)     # Calculate the Root Mean Squared Error\n",
    "print(\"MSE : \",MSE1)                    \n",
    "print(\"MAE : \",MAE1)\n",
    "print(\"RMSE :\",RMSE1)"
   ]
  },
  {
   "cell_type": "markdown",
   "id": "1d9125f3",
   "metadata": {},
   "source": [
    "### Ploting The  <font color=tomato> <u>Actual</u> <font color=black> and <font color=green> <u>Predicted</u> <font color=black>values of the Sales "
   ]
  },
  {
   "cell_type": "code",
   "execution_count": 44,
   "id": "715be7b0",
   "metadata": {},
   "outputs": [
    {
     "data": {
      "image/png": "[encoded data removed]",
      "text/plain": [
       "<Figure size 1080x432 with 1 Axes>"
      ]
     },
     "metadata": {
      "needs_background": "light"
     },
     "output_type": "display_data"
    }
   ],
   "source": [
    "plt.figure(figsize=(15,6)) \n",
    "x=np.arange(len(y_test[:1000]))\n",
    "plt.scatter(x,y_test[:1000],color=\"tomato\",label=\"Actual\")\n",
    "plt.scatter(x,Y_predict_test_lr[:1000],color=\"green\",label=\"predicted\")\n",
    "plt.title(\"Actual Sales Vs Predicted Sales\",fontsize=18,fontweight=\"bold\")\n",
    "plt.legend()\n",
    "plt.show()"
   ]
  },
  {
   "cell_type": "markdown",
   "id": "7c2ac814",
   "metadata": {},
   "source": [
    "## Modeling Through Decision Tree Regressor --"
   ]
  },
  {
   "cell_type": "code",
   "execution_count": 45,
   "id": "8b42b79c",
   "metadata": {},
   "outputs": [
    {
     "data": {
      "text/plain": [
       "DecisionTreeRegressor(max_depth=4, max_leaf_nodes=10, min_samples_split=5)"
      ]
     },
     "execution_count": 45,
     "metadata": {},
     "output_type": "execute_result"
    }
   ],
   "source": [
    "Decision_tree_model = DecisionTreeRegressor(max_depth=4,min_samples_split=5,max_leaf_nodes=10)\n",
    "Decision_tree_model.fit(x_train,y_train)               # Create the Decision Tree model and fitted the training data into it "
   ]
  },
  {
   "cell_type": "code",
   "execution_count": 46,
   "id": "b830b9c6",
   "metadata": {},
   "outputs": [
    {
     "name": "stdout",
     "output_type": "stream",
     "text": [
      "Decision Tree Training Score  53.04 %\n"
     ]
    }
   ],
   "source": [
    "DT_Training_Score=round(Decision_tree_model.score(x_train,y_train)*100,2) \n",
    "print(\"Decision Tree Training Score \", DT_Training_Score,\"%\") # Finding the training score of the  Decision Tree model"
   ]
  },
  {
   "cell_type": "code",
   "execution_count": 47,
   "id": "d5154df6",
   "metadata": {},
   "outputs": [
    {
     "name": "stdout",
     "output_type": "stream",
     "text": [
      "Decision Tree Test Score  49.77 %\n"
     ]
    }
   ],
   "source": [
    "DT_Testing_Score=round(Decision_tree_model.score(x_test,y_test)*100,2)      \n",
    "print(\"Decision Tree Test Score \", DT_Testing_Score,\"%\")      # Finding the testing score of the  Decision Tree model"
   ]
  },
  {
   "cell_type": "code",
   "execution_count": 48,
   "id": "6c90821a",
   "metadata": {},
   "outputs": [
    {
     "data": {
      "text/plain": [
       "array([2573.02233015, 1409.97990947, 1972.65782648, ..., 1409.97990947,\n",
       "       1972.65782648, 2573.02233015])"
      ]
     },
     "execution_count": 48,
     "metadata": {},
     "output_type": "execute_result"
    }
   ],
   "source": [
    "Y_predict_DT=Decision_tree_model.predict(x_test)             \n",
    "Y_predict_DT                                     # Finding Cofficient intercept and slope of the  Decision Tree model"
   ]
  },
  {
   "cell_type": "code",
   "execution_count": 49,
   "id": "ebece9c6",
   "metadata": {},
   "outputs": [
    {
     "name": "stdout",
     "output_type": "stream",
     "text": [
      "MSE :  1027980.4503628479\n",
      "MAE :  728.9173640813169\n",
      "RMSE : 1013.8937076256307\n"
     ]
    }
   ],
   "source": [
    "MSE2=mean_squared_error(y_test,Y_predict_DT)                          # Calciulate the Mean Square Error\n",
    "MAE2=mean_absolute_error(y_test,Y_predict_DT)                         # Calculate the Mean Absolute Error\n",
    "RMSE2=mean_squared_error(y_test,Y_predict_DT, squared=False)          # Calculate the Root Mean Squared Error\n",
    "print(\"MSE : \",MSE2)\n",
    "print(\"MAE : \",MAE2)\n",
    "print(\"RMSE :\",RMSE2)"
   ]
  },
  {
   "cell_type": "markdown",
   "id": "e89aa5c7",
   "metadata": {},
   "source": [
    "### Ploting The  <font color=brown>  <u>Actual</u> <font color=black> and <font color=green  ><u>Predicted </u> <font color=black>values of the Sales "
   ]
  },
  {
   "cell_type": "code",
   "execution_count": 50,
   "id": "cf9c4db8",
   "metadata": {},
   "outputs": [
    {
     "data": {
      "image/png": "[encoded data removed]",
      "text/plain": [
       "<Figure size 1080x432 with 1 Axes>"
      ]
     },
     "metadata": {
      "needs_background": "light"
     },
     "output_type": "display_data"
    }
   ],
   "source": [
    "plt.figure(figsize=(15,6))                                               \n",
    "x=np.arange(len(y_test[:1000]))\n",
    "plt.scatter(x,y_test[:1000],color=\"brown\",label=\"Actual\")\n",
    "plt.scatter(x,Y_predict_DT[:1000],color=\"green\",label=\"predicted\")\n",
    "plt.title(\"Actual Sales Vs Predicted Sales\",fontsize=18,fontweight=\"bold\")\n",
    "plt.legend()\n",
    "plt.show()"
   ]
  },
  {
   "cell_type": "markdown",
   "id": "74ed67da",
   "metadata": {},
   "source": [
    "## Modeling Through Random Forest Regressor --"
   ]
  },
  {
   "cell_type": "code",
   "execution_count": 51,
   "id": "d9c5d71c",
   "metadata": {},
   "outputs": [
    {
     "data": {
      "text/plain": [
       "RandomForestRegressor(max_depth=10, n_estimators=200, n_jobs=-1, oob_score=True,\n",
       "                      random_state=20)"
      ]
     },
     "execution_count": 51,
     "metadata": {},
     "output_type": "execute_result"
    }
   ],
   "source": [
    "Random_f_model = RandomForestRegressor(random_state=20, n_jobs=-1, max_depth=10, n_estimators=200,oob_score=True)\n",
    "Random_f_model.fit(x_train, y_train)                   # Create a Linear model and fitted the training data into it "
   ]
  },
  {
   "cell_type": "code",
   "execution_count": 52,
   "id": "00c9df25",
   "metadata": {},
   "outputs": [
    {
     "name": "stdout",
     "output_type": "stream",
     "text": [
      "Prediction: [2735.10398777 1601.71291482 2181.77886012 ... 1475.4388341  2268.35914914\n",
      " 2536.31700739]\n"
     ]
    }
   ],
   "source": [
    "Random_f_pred = Random_f_model.predict(x_test)         # Predict the future values of the sales \n",
    "print(\"Prediction:\",Random_f_pred )"
   ]
  },
  {
   "cell_type": "code",
   "execution_count": 53,
   "id": "c4d67fa8",
   "metadata": {},
   "outputs": [
    {
     "name": "stdout",
     "output_type": "stream",
     "text": [
      "Train score: 64.25 %\n"
     ]
    }
   ],
   "source": [
    "Train_score_RF = round(Random_f_model.score(x_train, y_train)*100,2)\n",
    "print(\"Train score:\",Train_score_RF,\"%\")               # Finding the training score of the  Decision Tree model"
   ]
  },
  {
   "cell_type": "code",
   "execution_count": 54,
   "id": "576016d0",
   "metadata": {},
   "outputs": [
    {
     "name": "stdout",
     "output_type": "stream",
     "text": [
      "Test score: 49.87 %\n"
     ]
    }
   ],
   "source": [
    "Test_score_RF= round(Random_f_model.score(x_test, y_test)*100,2) \n",
    "print(\"Test score:\",Test_score_RF,\"%\")                 # Finding the testing score of the  Decision Tree model"
   ]
  },
  {
   "cell_type": "code",
   "execution_count": 55,
   "id": "9e8e6638",
   "metadata": {},
   "outputs": [
    {
     "name": "stdout",
     "output_type": "stream",
     "text": [
      "MSE :  1025937.1698018159\n",
      "MAE :  720.3538168970201\n",
      "RMSE : 1012.8855659953971\n"
     ]
    }
   ],
   "source": [
    "MSE3=mean_squared_error(y_test,Random_f_pred)                         # Calciulate the Mean Square Error\n",
    "MAE3=mean_absolute_error(y_test,Random_f_pred)                        # Calciulate the Absolute Square Error\n",
    "RMSE3=mean_squared_error(y_test,Random_f_pred, squared=False)         # Calciulate the Root Mean Square Error\n",
    "print(\"MSE : \",MSE3)\n",
    "print(\"MAE : \",MAE3)\n",
    "print(\"RMSE :\",RMSE3)"
   ]
  },
  {
   "cell_type": "markdown",
   "id": "cc9e0fc2",
   "metadata": {},
   "source": [
    "### Ploting The  <font color=deeppink>  <u> Actual  </u><font color=black> and <font color=purple>  <u>Predicted </u> <font color=black>values of the Sales "
   ]
  },
  {
   "cell_type": "code",
   "execution_count": 56,
   "id": "0fae6ece",
   "metadata": {},
   "outputs": [
    {
     "data": {
      "image/png": "[encoded data removed]",
      "text/plain": [
       "<Figure size 1080x432 with 1 Axes>"
      ]
     },
     "metadata": {
      "needs_background": "light"
     },
     "output_type": "display_data"
    }
   ],
   "source": [
    "plt.figure(figsize=(15,6))\n",
    "x=np.arange(len(y_test[:1000]))\n",
    "plt.scatter(x,y_test[:1000],color=\"deeppink\",label=\"Actual\")\n",
    "plt.scatter(x,Random_f_pred[:1000],color=\"purple\",label=\"predicted\")\n",
    "plt.title(\"Actual Sales Vs Predicted Sales\",fontsize=18,fontweight=\"bold\")\n",
    "plt.legend()\n",
    "plt.show()"
   ]
  },
  {
   "cell_type": "markdown",
   "id": "0305027e",
   "metadata": {},
   "source": [
    "# <font color=indigo>  <center> <u>Final Results"
   ]
  },
  {
   "cell_type": "code",
   "execution_count": 57,
   "id": "893e06e1",
   "metadata": {},
   "outputs": [
    {
     "data": {
      "text/html": [
       "<div>\n",
       "<style scoped>\n",
       "    .dataframe tbody tr th:only-of-type {\n",
       "        vertical-align: middle;\n",
       "    }\n",
       "\n",
       "    .dataframe tbody tr th {\n",
       "        vertical-align: top;\n",
       "    }\n",
       "\n",
       "    .dataframe thead th {\n",
       "        text-align: right;\n",
       "    }\n",
       "</style>\n",
       "<table border=\"1\" class=\"dataframe\">\n",
       "  <thead>\n",
       "    <tr style=\"text-align: right;\">\n",
       "      <th></th>\n",
       "      <th>Training score</th>\n",
       "      <th>Testing score</th>\n",
       "      <th>MSE</th>\n",
       "      <th>MAE</th>\n",
       "      <th>RMSE</th>\n",
       "    </tr>\n",
       "  </thead>\n",
       "  <tbody>\n",
       "    <tr>\n",
       "      <th>LINER MODEL</th>\n",
       "      <td>43.53</td>\n",
       "      <td>40.07</td>\n",
       "      <td>1.226668e+06</td>\n",
       "      <td>824.773961</td>\n",
       "      <td>1107.550394</td>\n",
       "    </tr>\n",
       "    <tr>\n",
       "      <th>DECISION TREE</th>\n",
       "      <td>53.04</td>\n",
       "      <td>49.77</td>\n",
       "      <td>1.027980e+06</td>\n",
       "      <td>728.917364</td>\n",
       "      <td>1013.893708</td>\n",
       "    </tr>\n",
       "    <tr>\n",
       "      <th>RANDOM FOREST</th>\n",
       "      <td>64.25</td>\n",
       "      <td>49.87</td>\n",
       "      <td>1.025937e+06</td>\n",
       "      <td>720.353817</td>\n",
       "      <td>1012.885566</td>\n",
       "    </tr>\n",
       "  </tbody>\n",
       "</table>\n",
       "</div>"
      ],
      "text/plain": [
       "               Training score  Testing score           MSE         MAE  \\\n",
       "LINER MODEL             43.53          40.07  1.226668e+06  824.773961   \n",
       "DECISION TREE           53.04          49.77  1.027980e+06  728.917364   \n",
       "RANDOM FOREST           64.25          49.87  1.025937e+06  720.353817   \n",
       "\n",
       "                      RMSE  \n",
       "LINER MODEL    1107.550394  \n",
       "DECISION TREE  1013.893708  \n",
       "RANDOM FOREST  1012.885566  "
      ]
     },
     "execution_count": 57,
     "metadata": {},
     "output_type": "execute_result"
    }
   ],
   "source": [
    "Training_score=[train_score,DT_Training_Score,Train_score_RF]\n",
    "Testing_score=[test_score,DT_Testing_Score,Test_score_RF]\n",
    "MSE=[MSE1,MSE2,MSE3]\n",
    "MAE=[MAE1,MAE2,MAE3]\n",
    "RMSE=[RMSE1,RMSE2,RMSE3]\n",
    "INDEX=[\"LINER MODEL\",\"DECISION TREE\",\"RANDOM FOREST\"]\n",
    "final_df=pd.DataFrame({\"Training score\":Training_score,\"Testing score\":Testing_score,\"MSE\":MSE,\"MAE\":MAE,\"RMSE\":RMSE},index=INDEX)\n",
    "final_df"
   ]
  },
  {
   "cell_type": "code",
   "execution_count": 58,
   "id": "85f5e96f",
   "metadata": {},
   "outputs": [
    {
     "data": {
      "image/png": "[encoded data removed]",
      "text/plain": [
       "<Figure size 1080x360 with 2 Axes>"
      ]
     },
     "metadata": {
      "needs_background": "light"
     },
     "output_type": "display_data"
    }
   ],
   "source": [
    "plt.figure(figsize =(15, 5))\n",
    "plt.subplot(1,2,1)\n",
    "sb.barplot(final_df.index,final_df[\"Training score\"],palette=\"Blues\")\n",
    "plt.title(\"Training Scores\",fontsize=20,fontweight=\"bold\")\n",
    "plt.subplot(1,2,2)\n",
    "sb.barplot(final_df.index,final_df[\"Testing score\"],palette=\"hot_r\")\n",
    "plt.title(\"Testing Scores\",fontsize=20,fontweight=\"bold\")\n",
    "plt.show()"
   ]
  },
  {
   "cell_type": "markdown",
   "id": "9cd26bd6",
   "metadata": {},
   "source": [
    "### <font color=dark>INTERPRETATION :\n",
    "### <font color=magneta > Here after Analysing all the three Models I have to analyse that In Random forest the Training And Testing score is high ."
   ]
  },
  {
   "cell_type": "code",
   "execution_count": 59,
   "id": "dfbe9e4a",
   "metadata": {},
   "outputs": [
    {
     "data": {
      "image/png": "[encoded data removed]",
      "text/plain": [
       "<Figure size 1080x360 with 3 Axes>"
      ]
     },
     "metadata": {
      "needs_background": "light"
     },
     "output_type": "display_data"
    }
   ],
   "source": [
    "plt.figure(figsize =(15, 5))\n",
    "plt.subplot(1,3,1)\n",
    "sb.barplot(final_df.index,final_df[\"MSE\"],palette=\"PuRd\")\n",
    "plt.title(\"Mean Squared Error\",fontsize=16,fontweight=\"bold\")\n",
    "plt.subplot(1,3,2)\n",
    "sb.barplot(final_df.index,final_df[\"MAE\"],palette=\"Purples\")\n",
    "plt.title(\"Mean Absolute Error\",fontsize=16,fontweight=\"bold\")\n",
    "plt.subplot(1,3,3)\n",
    "sb.barplot(final_df.index,final_df[\"RMSE\"],palette=\"PuRd\")\n",
    "plt.title(\"Root Mean Squared Error\",fontsize=16,fontweight=\"bold\")\n",
    "plt.show()"
   ]
  },
  {
   "cell_type": "markdown",
   "id": "ebf5ccc1",
   "metadata": {},
   "source": [
    "### <font color=dark> <u> INTERPRETATION :</u>\n",
    "### <font color=magneta > Here after Analysing all the three Model Errors I Analysed that In Random forest the MSE, MAE, RMSE is low Compared to Other 2 Models. But eventhough We found that random Forest model is the best model it May not be the ideal Model Because More then 35% Data having Null values ."
   ]
  },
  {
   "cell_type": "markdown",
   "id": "94064334",
   "metadata": {},
   "source": [
    "### <font color=dark> ---------------------------------------------------------------------------------------------------------------------------------------------------------------"
   ]
  },
  {
   "cell_type": "markdown",
   "id": "cd76f0b4",
   "metadata": {},
   "source": [
    "### <font color=dark><u>CONCLUSION :\n",
    "### <font color=magneta > At the end after doing all the operations and preprocessing Feature Engineering, Feature selection, Splitting data, Normalization Different types of model building so we conclude that the best model is Random Forecast Regressor for prediction of the future sales values "
   ]
  },
  {
   "cell_type": "markdown",
   "id": "9fa89f12",
   "metadata": {},
   "source": [
    "### <font color=dark> ---------------------------------------------------------------------------------------------------------------------------------------------------------------"
   ]
  },
  {
   "cell_type": "code",
   "execution_count": null,
   "id": "12512fd5",
   "metadata": {},
   "outputs": [],
   "source": []
  }
 ],
 "metadata": {
  "kernelspec": {
   "display_name": "Python 3 (ipykernel)",
   "language": "python",
   "name": "python3"
  },
  "language_info": {
   "codemirror_mode": {
    "name": "ipython",
    "version": 3
   },
   "file_extension": ".py",
   "mimetype": "text/x-python",
   "name": "python",
   "nbconvert_exporter": "python",
   "pygments_lexer": "ipython3",
   "version": "3.9.7"
  }
 },
 "nbformat": 4,
 "nbformat_minor": 5
}
